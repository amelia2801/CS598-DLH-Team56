{
  "cells": [
    {
      "cell_type": "markdown",
      "metadata": {
        "id": "view-in-github",
        "colab_type": "text"
      },
      "source": [
        "<a href=\"https://colab.research.google.com/github/amelia2801/CS598-DLH-Team56/blob/main/DL4H_Team_56.ipynb\" target=\"_parent\"><img src=\"https://colab.research.google.com/assets/colab-badge.svg\" alt=\"Open In Colab\"/></a>"
      ]
    },
    {
      "cell_type": "markdown",
      "metadata": {
        "id": "PuJZd-X_JEYV"
      },
      "source": [
        "This notebook is the CS 598 Deep Learning for Healthcare Final Project. All other supplementary files and the notebook itself can be accessed from this Google Drive link: https://drive.google.com/drive/folders/1zt1xwsVEDUSJVlgYPBxmAcfsWkehpo9G?usp=drive_link\n",
        "\n",
        "*For Final Project submission purpose, a public GitHub repository containing the notebook also available: https://github.com/amelia2801/CS598-DLH-Team56/\n",
        "\n",
        "A presentation video about this project is available here: https://mediaspace.illinois.edu/media/t/1_fq8jk4ss"
      ]
    },
    {
      "cell_type": "markdown",
      "metadata": {
        "id": "MQ0sNuMePBXx"
      },
      "source": [
        "# Introduction\n",
        "\n",
        "Family history is a proven indicator of an individual's predisposition to certain diseases, but its use is complicated by the difficulty of gathering family history data and the lack of tools to intepret such data and connections. The introduction and prevalence of EHRs has made patient medical information much easier to access and compile across generations, presenting an opportunity to study multigenerational EHRs for entire families. Meanwhile, machine learning techniques have improved to the point where not only processing large amounts of medical data but also interpreting family connections between individuals is possible.\n",
        "\n",
        "There are some existing works that also includes family history in machine learning models to predict the risk of various diseases [3,4]. However, their approaches were developed for tabular data. Thus, they do not model the geometric structure of family history which is useful for the prediction.\n",
        "\n",
        "The paper aims to demonstrate the effectiveness of graph-based learning in predicting disease onset in individuals based off of their family history. To do this, the authors used graph neural networks (GNNs) and Long Short-Term Memory networks (LSTMs).\n",
        "\n",
        "The model proposed by the paper learns explainable node embeddings for individual relatives and also achieves better performance for complex diseases than clinically-inspired and other deep learning baselines."
      ]
    },
    {
      "cell_type": "markdown",
      "metadata": {
        "id": "uygL9tTPSVHB"
      },
      "source": [
        "# Scope of Reproducibility:\n",
        "\n",
        "\n",
        "Here we list the hypotheses from the paper that we will test and the experiment that we will run.\n",
        "\n",
        "\n",
        "**Hypothesis**: A graph-based approach to predicting disease through family history is better compared to other current deep-learning approaches.\n",
        "\n",
        "In this notebook, we will run a part of ablation studies that was done by the paper, specifically using the synthetic datasets provided by the authors. The proposed model GNN-LSTM are compared to several others deep learning baselines.\n",
        "\n",
        "We imported some the code provided by the authors of the paper from [2] into this notebook."
      ]
    },
    {
      "cell_type": "markdown",
      "metadata": {
        "id": "xWAHJ_1CdtaA"
      },
      "source": [
        "# Methodology"
      ]
    },
    {
      "cell_type": "code",
      "execution_count": null,
      "metadata": {
        "colab": {
          "base_uri": "https://localhost:8080/"
        },
        "id": "VAJmsUZ--Z5O",
        "outputId": "ce44c824-2975-407e-b752-63e19d1aa392"
      },
      "outputs": [
        {
          "output_type": "stream",
          "name": "stdout",
          "text": [
            "Found existing installation: torch 2.2.1+cu121\n",
            "Uninstalling torch-2.2.1+cu121:\n",
            "  Successfully uninstalled torch-2.2.1+cu121\n"
          ]
        }
      ],
      "source": [
        "# Uninstall any torch installation if exists. This is to make sure that we import the correct version.\n",
        "!pip uninstall torch -y"
      ]
    },
    {
      "cell_type": "markdown",
      "metadata": {
        "id": "ZtUqZWNVD_Tp"
      },
      "source": [
        "Mount the notebook to Google Drive with the specified directory:"
      ]
    },
    {
      "cell_type": "code",
      "execution_count": null,
      "metadata": {
        "colab": {
          "base_uri": "https://localhost:8080/"
        },
        "id": "KO0POGtEcnFi",
        "outputId": "5c9f17ca-3952-467e-dc3a-b0891269ebdb"
      },
      "outputs": [
        {
          "output_type": "stream",
          "name": "stdout",
          "text": [
            "sys version: 3.10.12 (main, Nov 20 2023, 15:14:05) [GCC 11.4.0]\n",
            "Mounted at /content/gdrive\n"
          ]
        }
      ],
      "source": [
        "import sys\n",
        "print(f\"sys version: {sys.version}\")\n",
        "from google.colab import drive\n",
        "\n",
        "# Mount notebook to google drive\n",
        "drive.mount('/content/gdrive', force_remount=True)\n",
        "root_url = '/content/gdrive/My Drive/CS598 DLH Project'\n",
        "sys.path.append(root_url)\n"
      ]
    },
    {
      "cell_type": "markdown",
      "metadata": {
        "id": "emUBVoUv43aQ"
      },
      "source": [
        "❗ FOR GRADER: Run the cell below only once, the first time you run this notebook. This will install necessary libraries once."
      ]
    },
    {
      "cell_type": "code",
      "execution_count": null,
      "metadata": {
        "colab": {
          "base_uri": "https://localhost:8080/"
        },
        "id": "i6iLy4JIkIez",
        "outputId": "c24ea6a7-20c5-4b33-af43-d7d7fc19b1dd"
      },
      "outputs": [
        {
          "output_type": "stream",
          "name": "stdout",
          "text": [
            "Collecting virtualenv\n",
            "  Downloading virtualenv-20.26.1-py3-none-any.whl (3.9 MB)\n",
            "\u001b[2K     \u001b[90m━━━━━━━━━━━━━━━━━━━━━━━━━━━━━━━━━━━━━━━━\u001b[0m \u001b[32m3.9/3.9 MB\u001b[0m \u001b[31m11.1 MB/s\u001b[0m eta \u001b[36m0:00:00\u001b[0m\n",
            "\u001b[?25hCollecting distlib<1,>=0.3.7 (from virtualenv)\n",
            "  Downloading distlib-0.3.8-py2.py3-none-any.whl (468 kB)\n",
            "\u001b[2K     \u001b[90m━━━━━━━━━━━━━━━━━━━━━━━━━━━━━━━━━━━━━━━━\u001b[0m \u001b[32m468.9/468.9 kB\u001b[0m \u001b[31m13.3 MB/s\u001b[0m eta \u001b[36m0:00:00\u001b[0m\n",
            "\u001b[?25hRequirement already satisfied: filelock<4,>=3.12.2 in /usr/local/lib/python3.10/dist-packages (from virtualenv) (3.14.0)\n",
            "Requirement already satisfied: platformdirs<5,>=3.9.1 in /usr/local/lib/python3.10/dist-packages (from virtualenv) (4.2.1)\n",
            "Installing collected packages: distlib, virtualenv\n",
            "Successfully installed distlib-0.3.8 virtualenv-20.26.1\n",
            "created virtual environment CPython3.10.12.final.0-64 in 31881ms\n",
            "  creator CPython3Posix(dest=/content/gdrive/.shortcut-targets-by-id/1zt1xwsVEDUSJVlgYPBxmAcfsWkehpo9G/CS598 DLH Project/colab_env, clear=False, no_vcs_ignore=False, global=False)\n",
            "  seeder FromAppData(download=False, pip=bundle, setuptools=bundle, wheel=bundle, via=copy, app_data_dir=/root/.local/share/virtualenv)\n",
            "    added seed packages: Jinja2==3.1.3, MarkupSafe==2.1.5, certifi==2024.2.2, charset_normalizer==3.3.2, idna==3.7, joblib==1.4.0, numpy==1.26.4, pillow==10.3.0, pip==24.0, psutil==5.9.8, pyg_lib==0.2.0+pt112cu102, pyparsing==3.1.2, requests==2.31.0, scikit_learn==1.4.2, scipy==1.13.0, setuptools==69.5.1, threadpoolctl==3.4.0, torch==1.12.1+cu102, torch_cluster==1.6.3, torch_geometric==2.2.0, torch_scatter==2.1.2, torch_sparse==0.6.18, torchaudio==0.12.1+cu102, torchvision==0.13.1+cu102, tqdm==4.66.2, typing_extensions==4.11.0, urllib3==2.2.1, wheel==0.43.0\n",
            "  activators BashActivator,CShellActivator,FishActivator,NushellActivator,PowerShellActivator,PythonActivator\n",
            "Looking in indexes: https://pypi.org/simple, https://download.pytorch.org/whl/cu102\n",
            "Requirement already satisfied: torch==1.12.1+cu102 in ./gdrive/.shortcut-targets-by-id/1zt1xwsVEDUSJVlgYPBxmAcfsWkehpo9G/CS598 DLH Project/colab_env/lib/python3.10/site-packages (1.12.1+cu102)\n",
            "Requirement already satisfied: torchvision==0.13.1+cu102 in ./gdrive/.shortcut-targets-by-id/1zt1xwsVEDUSJVlgYPBxmAcfsWkehpo9G/CS598 DLH Project/colab_env/lib/python3.10/site-packages (0.13.1+cu102)\n",
            "Requirement already satisfied: torchaudio==0.12.1 in ./gdrive/.shortcut-targets-by-id/1zt1xwsVEDUSJVlgYPBxmAcfsWkehpo9G/CS598 DLH Project/colab_env/lib/python3.10/site-packages (0.12.1+cu102)\n",
            "Requirement already satisfied: typing-extensions in ./gdrive/.shortcut-targets-by-id/1zt1xwsVEDUSJVlgYPBxmAcfsWkehpo9G/CS598 DLH Project/colab_env/lib/python3.10/site-packages (from torch==1.12.1+cu102) (4.11.0)\n",
            "Requirement already satisfied: numpy in ./gdrive/.shortcut-targets-by-id/1zt1xwsVEDUSJVlgYPBxmAcfsWkehpo9G/CS598 DLH Project/colab_env/lib/python3.10/site-packages (from torchvision==0.13.1+cu102) (1.26.4)\n",
            "Requirement already satisfied: requests in ./gdrive/.shortcut-targets-by-id/1zt1xwsVEDUSJVlgYPBxmAcfsWkehpo9G/CS598 DLH Project/colab_env/lib/python3.10/site-packages (from torchvision==0.13.1+cu102) (2.31.0)\n",
            "Requirement already satisfied: pillow!=8.3.*,>=5.3.0 in ./gdrive/.shortcut-targets-by-id/1zt1xwsVEDUSJVlgYPBxmAcfsWkehpo9G/CS598 DLH Project/colab_env/lib/python3.10/site-packages (from torchvision==0.13.1+cu102) (10.3.0)\n",
            "Requirement already satisfied: charset-normalizer<4,>=2 in ./gdrive/.shortcut-targets-by-id/1zt1xwsVEDUSJVlgYPBxmAcfsWkehpo9G/CS598 DLH Project/colab_env/lib/python3.10/site-packages (from requests->torchvision==0.13.1+cu102) (3.3.2)\n",
            "Requirement already satisfied: idna<4,>=2.5 in ./gdrive/.shortcut-targets-by-id/1zt1xwsVEDUSJVlgYPBxmAcfsWkehpo9G/CS598 DLH Project/colab_env/lib/python3.10/site-packages (from requests->torchvision==0.13.1+cu102) (3.7)\n",
            "Requirement already satisfied: urllib3<3,>=1.21.1 in ./gdrive/.shortcut-targets-by-id/1zt1xwsVEDUSJVlgYPBxmAcfsWkehpo9G/CS598 DLH Project/colab_env/lib/python3.10/site-packages (from requests->torchvision==0.13.1+cu102) (2.2.1)\n",
            "Requirement already satisfied: certifi>=2017.4.17 in ./gdrive/.shortcut-targets-by-id/1zt1xwsVEDUSJVlgYPBxmAcfsWkehpo9G/CS598 DLH Project/colab_env/lib/python3.10/site-packages (from requests->torchvision==0.13.1+cu102) (2024.2.2)\n",
            "Looking in links: https://data.pyg.org/whl/torch-1.12.0+cu102.html\n",
            "Requirement already satisfied: pyg-lib in ./gdrive/.shortcut-targets-by-id/1zt1xwsVEDUSJVlgYPBxmAcfsWkehpo9G/CS598 DLH Project/colab_env/lib/python3.10/site-packages (0.2.0+pt112cu102)\n",
            "Requirement already satisfied: torch-scatter in ./gdrive/.shortcut-targets-by-id/1zt1xwsVEDUSJVlgYPBxmAcfsWkehpo9G/CS598 DLH Project/colab_env/lib/python3.10/site-packages (2.1.2)\n",
            "Requirement already satisfied: torch-sparse in ./gdrive/.shortcut-targets-by-id/1zt1xwsVEDUSJVlgYPBxmAcfsWkehpo9G/CS598 DLH Project/colab_env/lib/python3.10/site-packages (0.6.18)\n",
            "Requirement already satisfied: torch-cluster in ./gdrive/.shortcut-targets-by-id/1zt1xwsVEDUSJVlgYPBxmAcfsWkehpo9G/CS598 DLH Project/colab_env/lib/python3.10/site-packages (1.6.3)\n",
            "Requirement already satisfied: scipy in ./gdrive/.shortcut-targets-by-id/1zt1xwsVEDUSJVlgYPBxmAcfsWkehpo9G/CS598 DLH Project/colab_env/lib/python3.10/site-packages (from torch-sparse) (1.13.0)\n",
            "Requirement already satisfied: numpy<2.3,>=1.22.4 in ./gdrive/.shortcut-targets-by-id/1zt1xwsVEDUSJVlgYPBxmAcfsWkehpo9G/CS598 DLH Project/colab_env/lib/python3.10/site-packages (from scipy->torch-sparse) (1.26.4)\n",
            "Requirement already satisfied: torch_geometric==2.2.0 in ./gdrive/.shortcut-targets-by-id/1zt1xwsVEDUSJVlgYPBxmAcfsWkehpo9G/CS598 DLH Project/colab_env/lib/python3.10/site-packages (2.2.0)\n",
            "Requirement already satisfied: tqdm in ./gdrive/.shortcut-targets-by-id/1zt1xwsVEDUSJVlgYPBxmAcfsWkehpo9G/CS598 DLH Project/colab_env/lib/python3.10/site-packages (from torch_geometric==2.2.0) (4.66.2)\n",
            "Requirement already satisfied: numpy in ./gdrive/.shortcut-targets-by-id/1zt1xwsVEDUSJVlgYPBxmAcfsWkehpo9G/CS598 DLH Project/colab_env/lib/python3.10/site-packages (from torch_geometric==2.2.0) (1.26.4)\n",
            "Requirement already satisfied: scipy in ./gdrive/.shortcut-targets-by-id/1zt1xwsVEDUSJVlgYPBxmAcfsWkehpo9G/CS598 DLH Project/colab_env/lib/python3.10/site-packages (from torch_geometric==2.2.0) (1.13.0)\n",
            "Requirement already satisfied: jinja2 in ./gdrive/.shortcut-targets-by-id/1zt1xwsVEDUSJVlgYPBxmAcfsWkehpo9G/CS598 DLH Project/colab_env/lib/python3.10/site-packages (from torch_geometric==2.2.0) (3.1.3)\n",
            "Requirement already satisfied: requests in ./gdrive/.shortcut-targets-by-id/1zt1xwsVEDUSJVlgYPBxmAcfsWkehpo9G/CS598 DLH Project/colab_env/lib/python3.10/site-packages (from torch_geometric==2.2.0) (2.31.0)\n",
            "Requirement already satisfied: pyparsing in ./gdrive/.shortcut-targets-by-id/1zt1xwsVEDUSJVlgYPBxmAcfsWkehpo9G/CS598 DLH Project/colab_env/lib/python3.10/site-packages (from torch_geometric==2.2.0) (3.1.2)\n",
            "Requirement already satisfied: scikit-learn in ./gdrive/.shortcut-targets-by-id/1zt1xwsVEDUSJVlgYPBxmAcfsWkehpo9G/CS598 DLH Project/colab_env/lib/python3.10/site-packages (from torch_geometric==2.2.0) (1.4.2)\n",
            "Requirement already satisfied: psutil>=5.8.0 in ./gdrive/.shortcut-targets-by-id/1zt1xwsVEDUSJVlgYPBxmAcfsWkehpo9G/CS598 DLH Project/colab_env/lib/python3.10/site-packages (from torch_geometric==2.2.0) (5.9.8)\n",
            "Requirement already satisfied: MarkupSafe>=2.0 in ./gdrive/.shortcut-targets-by-id/1zt1xwsVEDUSJVlgYPBxmAcfsWkehpo9G/CS598 DLH Project/colab_env/lib/python3.10/site-packages (from jinja2->torch_geometric==2.2.0) (2.1.5)\n",
            "Requirement already satisfied: charset-normalizer<4,>=2 in ./gdrive/.shortcut-targets-by-id/1zt1xwsVEDUSJVlgYPBxmAcfsWkehpo9G/CS598 DLH Project/colab_env/lib/python3.10/site-packages (from requests->torch_geometric==2.2.0) (3.3.2)\n",
            "Requirement already satisfied: idna<4,>=2.5 in ./gdrive/.shortcut-targets-by-id/1zt1xwsVEDUSJVlgYPBxmAcfsWkehpo9G/CS598 DLH Project/colab_env/lib/python3.10/site-packages (from requests->torch_geometric==2.2.0) (3.7)\n",
            "Requirement already satisfied: urllib3<3,>=1.21.1 in ./gdrive/.shortcut-targets-by-id/1zt1xwsVEDUSJVlgYPBxmAcfsWkehpo9G/CS598 DLH Project/colab_env/lib/python3.10/site-packages (from requests->torch_geometric==2.2.0) (2.2.1)\n",
            "Requirement already satisfied: certifi>=2017.4.17 in ./gdrive/.shortcut-targets-by-id/1zt1xwsVEDUSJVlgYPBxmAcfsWkehpo9G/CS598 DLH Project/colab_env/lib/python3.10/site-packages (from requests->torch_geometric==2.2.0) (2024.2.2)\n",
            "Requirement already satisfied: joblib>=1.2.0 in ./gdrive/.shortcut-targets-by-id/1zt1xwsVEDUSJVlgYPBxmAcfsWkehpo9G/CS598 DLH Project/colab_env/lib/python3.10/site-packages (from scikit-learn->torch_geometric==2.2.0) (1.4.0)\n",
            "Requirement already satisfied: threadpoolctl>=2.0.0 in ./gdrive/.shortcut-targets-by-id/1zt1xwsVEDUSJVlgYPBxmAcfsWkehpo9G/CS598 DLH Project/colab_env/lib/python3.10/site-packages (from scikit-learn->torch_geometric==2.2.0) (3.4.0)\n"
          ]
        }
      ],
      "source": [
        "# Install virtualenv to create virtual environment\n",
        "!pip install virtualenv\n",
        "# Create virtual environment\n",
        "!virtualenv '/content/gdrive/My Drive/CS598 DLH Project/colab_env'\n",
        "# Activate the virtual environment and install necessary libraries\n",
        "# Here we install: torch 1.12.1, torchvision 0.13.1, torchaudio 0.12.1, torch-geometric 2.2.0\n",
        "!source /content/gdrive/My\\ Drive/CS598\\ DLH\\ Project/colab_env/bin/activate; pip install torch==1.12.1+cu102 torchvision==0.13.1+cu102 torchaudio==0.12.1 --extra-index-url https://download.pytorch.org/whl/cu102; pip install pyg-lib torch-scatter torch-sparse torch-cluster -f https://data.pyg.org/whl/torch-1.12.0+cu102.html; pip install torch_geometric==2.2.0"
      ]
    },
    {
      "cell_type": "code",
      "execution_count": null,
      "metadata": {
        "id": "bXuRYq7M5j0q"
      },
      "outputs": [],
      "source": [
        "# Append the path of installed packages\n",
        "sys.path.append(\"/content/gdrive/My Drive/CS598 DLH Project/colab_env/lib/python3.10/site-packages\")"
      ]
    },
    {
      "cell_type": "code",
      "execution_count": null,
      "metadata": {
        "colab": {
          "base_uri": "https://localhost:8080/"
        },
        "id": "K1k52Atn2tik",
        "outputId": "4e40ad03-42bf-43cf-9267-33c449b6595f"
      },
      "outputs": [
        {
          "output_type": "execute_result",
          "data": {
            "text/plain": [
              "['/content',\n",
              " '/env/python',\n",
              " '/usr/lib/python310.zip',\n",
              " '/usr/lib/python3.10',\n",
              " '/usr/lib/python3.10/lib-dynload',\n",
              " '',\n",
              " '/usr/local/lib/python3.10/dist-packages',\n",
              " '/usr/lib/python3/dist-packages',\n",
              " '/usr/local/lib/python3.10/dist-packages/IPython/extensions',\n",
              " '/root/.ipython',\n",
              " '/content/gdrive/My Drive/CS598 DLH Project',\n",
              " '/content/gdrive/My Drive/CS598 DLH Project/colab_env/lib/python3.10/site-packages']"
            ]
          },
          "metadata": {},
          "execution_count": 5
        }
      ],
      "source": [
        "sys.path"
      ]
    },
    {
      "cell_type": "code",
      "execution_count": null,
      "metadata": {
        "id": "y_h0EGn8BayZ"
      },
      "outputs": [],
      "source": [
        "# Activate the virtual environment\n",
        "!source /content/gdrive/My\\ Drive/CS598\\ DLH\\ Project/colab_env/bin/activate;"
      ]
    },
    {
      "cell_type": "code",
      "execution_count": null,
      "metadata": {
        "colab": {
          "base_uri": "https://localhost:8080/"
        },
        "id": "yu61Jp1xrnKk",
        "outputId": "043d3036-30f3-4e30-acf3-e108de4e18ce"
      },
      "outputs": [
        {
          "output_type": "stream",
          "name": "stdout",
          "text": [
            "pytorch version: 1.12.1+cu102\n",
            "torch_geometric version: 2.2.0\n"
          ]
        }
      ],
      "source": [
        "import time\n",
        "import numpy as np\n",
        "import torch\n",
        "print(f\"pytorch version: {torch.__version__}\")\n",
        "import torch.nn as nn\n",
        "from torch.utils.data import Dataset\n",
        "\n",
        "import torch_geometric\n",
        "print(f\"torch_geometric version: {torch_geometric.__version__}\")\n",
        "import torch_geometric.nn as gnn\n",
        "from torch_geometric.data import Dataset as GraphDataset\n",
        "from torch_geometric.data import Batch\n",
        "from torch_geometric.loader import DataLoader\n",
        "\n",
        "import torch.nn.functional as F\n",
        "import pandas as pd\n",
        "from random import choices\n",
        "from sklearn.metrics import accuracy_score\n",
        "from tqdm import tqdm\n",
        "import matplotlib.pyplot as plt\n",
        "import matplotlib.image as mpimg\n",
        "from sklearn import metrics\n",
        "from sklearn.metrics import matthews_corrcoef\n",
        "from sklearn.metrics import confusion_matrix"
      ]
    },
    {
      "cell_type": "code",
      "execution_count": null,
      "metadata": {
        "id": "JUkuIjSYDuc9"
      },
      "outputs": [],
      "source": [
        "from utils import EarlyStopping, get_classification_threshold_auc, get_classification_threshold_precision_recall, WeightedBCELoss\n",
        "import explainability"
      ]
    },
    {
      "cell_type": "markdown",
      "metadata": {
        "id": "2NbPHUTMbkD3"
      },
      "source": [
        "##  Data"
      ]
    },
    {
      "cell_type": "markdown",
      "metadata": {
        "id": "XzVUQS0CHry0"
      },
      "source": [
        "The original paper used data from Finland's nationwide EHR system, which we are unable to use for privacy and security reasons. Instead, we will use the example synthetic dataset they generated from the provided synthetic data generator, which we store in the folder 'sample_data'. The example data can also be found here: https://github.com/dsgelab/family-EHR-graphs/tree/main/test.\n",
        "\n",
        "The dataset consists of 3 main files - the edgefile, maskfile, and statfile - and several feature files that specifies which features to use for training the model. The maskfile contains data that specifies which samples belong to the target cohort - the patients to predict outcomes for - and which samples belong to the family cohort - relatives of the target patients, as well as specifying the training, validation, and test split for the dataset. The edgefile contains data for the edges and edge pairs for the family graphs. The statfile contains the age, sex, medical history data, and prediction label for all samples."
      ]
    },
    {
      "cell_type": "code",
      "execution_count": null,
      "metadata": {
        "id": "BZScZNbROw-N"
      },
      "outputs": [],
      "source": [
        "class DataFetch():\n",
        "    '''\n",
        "    Class to fetch and format data\n",
        "    '''\n",
        "    def __init__(self, maskfile, featfile, statfile, edgefile, sqlpath, params, alt_featfile=None, local=False):\n",
        "        feat_df = pd.read_csv(featfile)\n",
        "        self.local = local\n",
        "        self.static_features = feat_df[feat_df['type']=='static']['name'].tolist()\n",
        "        self.longitudinal_features = feat_df[feat_df['type']=='longitudinal']['name'].tolist()\n",
        "        self.edge_features = feat_df[feat_df['type']=='edge']['name'].tolist()\n",
        "        # some gnn layers only support a single edge weight\n",
        "        if params['gnn_layer'] in ['gcn', 'graphconv']: self.edge_features=['weight']\n",
        "        self.label_key = feat_df[feat_df['type']=='label']['name'].tolist()[0]\n",
        "        self.static_data = torch.tensor(pd.read_csv(statfile)[self.static_features].values, dtype=torch.float)\n",
        "        self.label_data = torch.tensor(pd.read_csv(statfile)[self.label_key].to_numpy(), dtype=torch.float32)\n",
        "        if len(self.longitudinal_features)>0 and not self.local: self.conn = sqlite3.connect(sqlpath)\n",
        "        self.params = params\n",
        "\n",
        "        if params['model_type'] in ['graph', 'graph_no_target', 'explainability']:\n",
        "            # can specify a different feature set using alt_featfile\n",
        "            alt_feat_df = pd.read_csv(alt_featfile)\n",
        "            self.alt_static_features = alt_feat_df[alt_feat_df['type']=='static']['name'].tolist()\n",
        "            self.alt_static_data = torch.tensor(pd.read_csv(statfile)[self.alt_static_features].values, dtype=torch.float)\n",
        "\n",
        "        mask_df = pd.read_csv(maskfile)\n",
        "        self.id_map = dict(zip(mask_df['node_id'], mask_df['PATIENTID']))\n",
        "        self.train_patient_list = torch.tensor(mask_df[mask_df['train']==0]['node_id'].to_numpy())\n",
        "        self.validate_patient_list = torch.tensor(mask_df[mask_df['train']==1]['node_id'].to_numpy())\n",
        "        self.test_patient_list = torch.tensor(mask_df[mask_df['train']==2]['node_id'].to_numpy())\n",
        "        self.num_samples_train_minority_class = torch.sum(self.label_data[self.train_patient_list]==1).item()\n",
        "        self.num_samples_train_majority_class = torch.sum(self.label_data[self.train_patient_list]==0).item()\n",
        "        self.num_samples_valid_minority_class = torch.sum(self.label_data[self.validate_patient_list]==1).item()\n",
        "        self.num_samples_valid_majority_class = torch.sum(self.label_data[self.validate_patient_list]==0).item()\n",
        "\n",
        "        if params['model_type']!='baseline':\n",
        "            self.edge_df = pd.read_csv(edgefile)\n",
        "            self.edge_df = self.edge_df.groupby('target_patient').agg(list)\n",
        "\n",
        "    def get_static_data(self, patients):\n",
        "        x_static = self.static_data[patients]\n",
        "        y = self.label_data[patients]\n",
        "        return x_static, y\n",
        "\n",
        "    def get_alt_static_data(self, patients):\n",
        "        x_static = self.alt_static_data[patients]\n",
        "        return x_static\n",
        "\n",
        "    def get_longitudinal_data(self, patients):\n",
        "        if self.local:\n",
        "            # return simulated data for local testing\n",
        "            num_nodes = len(patients)\n",
        "            num_years = self.params['obs_window_end']-self.params['obs_window_start']+1\n",
        "            num_features = len(self.longitudinal_features)\n",
        "            num_data = int(num_nodes*num_years*num_features*0.01)\n",
        "            i = [choices(range(num_nodes),k=num_data), choices(range(num_years),k=num_data), choices(range(num_features),k=num_data)]\n",
        "            v = [1]*num_data\n",
        "            x_longitudinal = torch.sparse_coo_tensor(i, v, (num_nodes, num_years, num_features), dtype=torch.float32)\n",
        "            x_longitudinal_dense = x_longitudinal.to_dense()\n",
        "        else:\n",
        "            # fetch data from SQLite database\n",
        "            id_list = [self.id_map[patient.item()] for patient in patients]\n",
        "            data = pd.DataFrame()\n",
        "            for patient in id_list:\n",
        "                command = \"SELECT PATIENTID, EVENT_YEAR, ENDPOINT FROM long WHERE PATIENTID='{}'\".format(patient)\n",
        "                data = pd.concat([data, pd.read_sql_query(command, self.conn)])\n",
        "            data = data[data['ENDPOINT'].isin(self.longitudinal_features)]\n",
        "\n",
        "            # limit to observation window years\n",
        "            data['EVENT_YEAR'] = data['EVENT_YEAR'].astype(int)\n",
        "            data = data[(data['EVENT_YEAR']>=self.params['obs_window_start'])&(data['EVENT_YEAR']<=self.params['obs_window_end'])]\n",
        "\n",
        "            # map to index positions\n",
        "            node_index = dict(zip(id_list, range(len(id_list))))\n",
        "            year_index = dict(zip(np.arange(self.params['obs_window_start'], self.params['obs_window_end']+1), range(self.params['obs_window_end']-self.params['obs_window_start']+1)))\n",
        "            feat_index = dict(zip(self.longitudinal_features, range(len(self.longitudinal_features))))\n",
        "            data['PATIENTID'] = data['PATIENTID'].map(node_index)\n",
        "            data['EVENT_YEAR'] = data['EVENT_YEAR'].map(year_index)\n",
        "            data['ENDPOINT'] = data['ENDPOINT'].map(feat_index)\n",
        "\n",
        "            # create sparse tensor\n",
        "            i = [data['PATIENTID'].tolist(), data['EVENT_YEAR'].tolist(), data['ENDPOINT'].tolist()]\n",
        "            v = [1]*len(data)\n",
        "            x_longitudinal = torch.sparse_coo_tensor(i, v, (len(node_index), len(year_index), len(feat_index)), dtype=torch.float32)\n",
        "            x_longitudinal_dense = x_longitudinal.to_dense()\n",
        "\n",
        "        return x_longitudinal_dense\n",
        "\n",
        "    def get_relatives(self, patients):\n",
        "        \"\"\"Returns a list of node ids included in any of these patient graphs\n",
        "        \"\"\"\n",
        "        return torch.tensor(list(set([i for list in self.edge_df.loc[patients]['node1'].to_list() for i in list] + [i for list in self.edge_df.loc[patients]['node2'].to_list() for i in list])))\n",
        "\n",
        "    def construct_patient_graph(self, patient, all_relatives, all_x_static, all_y, all_x_longitudinal=None):\n",
        "        \"\"\"Creates a re-indexed pytorch geometric data object for the patient\n",
        "        \"\"\"\n",
        "        # order nodes and get indices in all_relatives to retrieve feature data\n",
        "        node_ordering = np.asarray(list(set(self.edge_df.loc[patient].node1 + self.edge_df.loc[patient].node2)))\n",
        "        node_indices = [list(all_relatives.tolist()).index(value) for value in node_ordering]\n",
        "        x_static = all_x_static[node_indices]\n",
        "        y = all_y[list(all_relatives.tolist()).index(patient)] # predicting single value for each graph\n",
        "\n",
        "        # reindex the edge indices from 0, 1, ... num_nodes\n",
        "        node1 = [list(node_ordering.tolist()).index(value) for value in self.edge_df.loc[patient].node1]\n",
        "        node2 = [list(node_ordering.tolist()).index(value) for value in self.edge_df.loc[patient].node2]\n",
        "        edge_index = torch.tensor([node1,node2], dtype=torch.long)\n",
        "        edge_weight = torch.t(torch.tensor(self.edge_df.loc[patient][self.edge_features], dtype=torch.float))\n",
        "\n",
        "        data = torch_geometric.data.Data(x=x_static, edge_index=edge_index, y=y, edge_attr=edge_weight)\n",
        "        transform = torch_geometric.transforms.ToUndirected(reduce='mean')\n",
        "        data = transform(data)\n",
        "        if all_x_longitudinal is not None: data.x_longitudinal = all_x_longitudinal[node_indices]\n",
        "        data.target_index = torch.tensor(list(node_ordering.tolist()).index(patient))\n",
        "        return data\n",
        "\n",
        "\n",
        "class Data(Dataset):\n",
        "    def __init__(self, patient_list, fetch_data):\n",
        "        \"\"\"\n",
        "        Loads non-graph datasets for a given list of patients\n",
        "        Returns (x_static, x_longitudinal, y) if longitudinal data included, else (x_static, y)\n",
        "        \"\"\"\n",
        "        self.patient_list = patient_list\n",
        "        self.num_target_patients = len(patient_list)\n",
        "        self.fetch_data = fetch_data\n",
        "        self.include_longitudinal = len(fetch_data.longitudinal_features)>0\n",
        "\n",
        "    def __getitem__(self, patients):\n",
        "        batch_patient_list = self.patient_list[patients]\n",
        "        x_static, y = self.fetch_data.get_static_data(batch_patient_list)\n",
        "        if self.include_longitudinal:\n",
        "            x_longitudinal = self.fetch_data.get_longitudinal_data(batch_patient_list)\n",
        "            return x_static, x_longitudinal, y\n",
        "        else:\n",
        "            return x_static, y\n",
        "\n",
        "    def __len__(self):\n",
        "        return self.num_target_patients\n",
        "\n",
        "\n",
        "class GraphData(GraphDataset):\n",
        "  def __init__(self, patient_list, fetch_data):\n",
        "      \"\"\"\n",
        "      Loads a batch of multiple patient graphs\n",
        "      \"\"\"\n",
        "      self.patient_list = patient_list\n",
        "      self.num_target_patients = len(patient_list)\n",
        "      self.fetch_data = fetch_data\n",
        "      self.include_longitudinal = len(fetch_data.longitudinal_features)>0\n",
        "\n",
        "  def __getitem__(self, patients):\n",
        "      # returns multiple patient graphs by constructing a pytorch geometric Batch object\n",
        "      batch_patient_list = self.patient_list[patients]\n",
        "      data_list = []\n",
        "\n",
        "      # it's more efficient to fetch feature data for all patients and their relatives,\n",
        "      # and then split into separate graphs\n",
        "      all_relatives = self.fetch_data.get_relatives(batch_patient_list)\n",
        "      all_x_static, all_y = self.fetch_data.get_static_data(all_relatives)\n",
        "      patient_x_static = self.fetch_data.get_alt_static_data(batch_patient_list)\n",
        "      if self.include_longitudinal: all_x_longitudinal = self.fetch_data.get_longitudinal_data(all_relatives)\n",
        "      else: all_x_longitudinal = None\n",
        "\n",
        "      patient_index = 0\n",
        "      for patient in batch_patient_list:\n",
        "        patient_graph = self.fetch_data.construct_patient_graph(patient.item(), all_relatives, all_x_static, all_y, all_x_longitudinal)\n",
        "        patient_graph.patient_x_static = patient_x_static[patient_index].reshape(1,-1)\n",
        "        if self.include_longitudinal:\n",
        "            patient_x_longitudinal = patient_graph.x_longitudinal[patient_graph.target_index]\n",
        "            patient_graph.patient_x_longitudinal = patient_x_longitudinal[None,:,:]\n",
        "        data_list.append(patient_graph)\n",
        "        patient_index += 1\n",
        "\n",
        "      batch_data = Batch.from_data_list(data_list)\n",
        "      return batch_data\n",
        "\n",
        "  def __len__(self):\n",
        "      return self.num_target_patients"
      ]
    },
    {
      "cell_type": "code",
      "execution_count": null,
      "metadata": {
        "id": "RnDqFglnNZSr"
      },
      "outputs": [],
      "source": [
        "def get_data_and_loader(patient_list, fetch_data, params, shuffle=True):\n",
        "    \"\"\"\n",
        "    Parameters:\n",
        "    patient_list: list of patients (target samples) to load data for\n",
        "    fetch_data: the data object\n",
        "    params: dictionary of other parameters\n",
        "    shuffle: samples in random order if true\n",
        "    \"\"\"\n",
        "    if params['model_type'] == 'baseline':\n",
        "        dataset = Data(patient_list, fetch_data)\n",
        "    elif params['model_type'] in ['graph', 'graph_no_target', 'explainability']:\n",
        "        dataset = GraphData(patient_list, fetch_data)\n",
        "\n",
        "    if shuffle:\n",
        "        sample_order = torch.utils.data.sampler.RandomSampler(dataset)\n",
        "    else:\n",
        "        sample_order = torch.utils.data.sampler.SequentialSampler(dataset)\n",
        "\n",
        "    sampler = torch.utils.data.sampler.BatchSampler(\n",
        "        sample_order,\n",
        "        batch_size=params['batchsize'],\n",
        "        drop_last=False)\n",
        "\n",
        "    loader = DataLoader(dataset, sampler=sampler, num_workers=params['num_workers'])\n",
        "    return dataset, loader"
      ]
    },
    {
      "cell_type": "code",
      "execution_count": null,
      "metadata": {
        "colab": {
          "base_uri": "https://localhost:8080/"
        },
        "id": "L3I2Vc1LTpr-",
        "outputId": "f11af9f1-5658-48ff-a9d0-1f7e506167fa"
      },
      "outputs": [
        {
          "output_type": "stream",
          "name": "stdout",
          "text": [
            "Using cpu device\n"
          ]
        }
      ],
      "source": [
        "raw_data_dir = root_url +'/sample_data'\n",
        "edgefile = raw_data_dir + '/Gen3_50k_0.7_142857_edgefile.csv'\n",
        "maskfile = raw_data_dir + '/Gen3_50k_0.7_142857_maskfile.csv'\n",
        "statfile = raw_data_dir + '/Gen3_50k_0.7_142857_statfile.csv'\n",
        "featfile_A2 = raw_data_dir + '/featfiles/featfile_A2.csv'\n",
        "featfile_A5 = raw_data_dir + '/featfiles/featfile_A5.csv'\n",
        "featfile_G1 = raw_data_dir + '/featfiles/featfile_G1.csv'\n",
        "featfile_G2 = raw_data_dir + '/featfiles/featfile_G2.csv'\n",
        "\n",
        "# params for G2\n",
        "params = {'model_type':'explainability',\n",
        "          'gnn_layer':'graphconv',\n",
        "          'pooling_method':'target',\n",
        "          'obs_window_start':1990,\n",
        "          'obs_window_end':2010,\n",
        "          'num_workers':1,\n",
        "          'batchsize':250,\n",
        "          'max_epochs':5, # default is 100\n",
        "          'patience':5,\n",
        "          'learning_rate':0.001,\n",
        "          'main_hidden_dim':20,\n",
        "          'lstm_hidden_dim':20,\n",
        "          'gamma':1,\n",
        "          'alpha':1,\n",
        "          'beta':1,\n",
        "          'delta':1,\n",
        "          'dropout_rate':0.5}\n",
        "\n",
        "# Will use GPU if available by default, change the value to cpu if you don't want this\n",
        "params['device'] = torch.device('cuda' if torch.cuda.is_available() else 'cpu')\n",
        "print(\"Using {} device\".format(params['device']))\n",
        "\n",
        "# Data, train set, validate set, test set for G2:\n",
        "\n",
        "# To run the Explainability Analysis, we need to use this setup:\n",
        "# featfile=test/featfiles/featfile_G2.csv # for family\n",
        "# alt_featfile=test/featfiles/featfile_A5.csv # for target\n",
        "\n",
        "fetch_data = DataFetch(\n",
        "    maskfile=maskfile,\n",
        "    featfile=featfile_G2,\n",
        "    statfile=statfile,\n",
        "    edgefile=edgefile,\n",
        "    sqlpath=None,\n",
        "    params=params,\n",
        "    alt_featfile=featfile_A5,\n",
        "    local=True) # set to True to use simulated longitudinal data for local testing\n",
        "train_patient_list = fetch_data.train_patient_list\n",
        "validate_patient_list = fetch_data.validate_patient_list\n",
        "test_patient_list = fetch_data.test_patient_list\n",
        "\n",
        "train_dataset, train_loader = get_data_and_loader(train_patient_list, fetch_data, params, shuffle=True)\n",
        "validate_dataset, validate_loader = get_data_and_loader(validate_patient_list, fetch_data, params, shuffle=True)\n",
        "test_dataset, test_loader = get_data_and_loader(test_patient_list, fetch_data, params, shuffle=False)\n",
        "\n",
        "params['include_longitudinal'] = train_dataset.include_longitudinal\n",
        "params['num_features_static'] = len(fetch_data.static_features)\n",
        "if params['model_type'] in ['graph', 'graph_no_target', 'explainability']: params['num_features_alt_static'] = len(fetch_data.alt_static_features)\n",
        "params['num_features_longitudinal'] = len(fetch_data.longitudinal_features)"
      ]
    },
    {
      "cell_type": "code",
      "execution_count": null,
      "metadata": {
        "colab": {
          "base_uri": "https://localhost:8080/"
        },
        "id": "GwpjeJI94YYq",
        "outputId": "eecf1537-670c-4246-c558-44a315c288bb"
      },
      "outputs": [
        {
          "output_type": "stream",
          "name": "stdout",
          "text": [
            "train patients: tensor([50013, 50026, 50027])\n",
            "validate patients: tensor([50013, 50026, 50027])\n",
            "test patients: tensor([50013, 50026, 50027])\n"
          ]
        }
      ],
      "source": [
        "# Print out some samples to see the code works:\n",
        "print(f\"train patients: {train_patient_list[:3]}\")\n",
        "print(f\"validate patients: {train_patient_list[:3]}\")\n",
        "print(f\"test patients: {train_patient_list[:3]}\")"
      ]
    },
    {
      "cell_type": "markdown",
      "metadata": {
        "id": "3muyDPFPbozY"
      },
      "source": [
        "##   Model\n",
        "The model includes the model definitation which usually is a class, model training, and other necessary parts.\n",
        "  * Model architecture: layer number/size/type, activation function, etc\n",
        "  * Training objectives: loss function, optimizer, weight of each loss term, etc\n",
        "  * Others: whether the model is pretrained, Monte Carlo simulation for uncertainty analysis, etc\n",
        "  * The code of model should have classes of the model, functions of model training, model validation, etc.\n",
        "  * If your model training is done outside of this notebook, please upload the trained model here and develop a function to load and test it."
      ]
    },
    {
      "cell_type": "markdown",
      "metadata": {
        "id": "uQX0Y2aAiNbC"
      },
      "source": [
        "The model proposed by the paper combines graph neural networks (GNNs) and long short-term memory networks (LSTMs) for learning supervised representations to classify a patient's health outcome based on their own EHR data and a graph representation of their family's EHRs. The figure below illustrates the two big components that are combined to produce the end results.\n",
        "\n",
        "![](https://drive.google.com/uc?export=view&id=1sor37vgC-xd3fpC8UnVNXn6Fdoh0cZUm)\n",
        "\n",
        "The target-specific component (the target patient's data) consists of an LSTM. The embedding $ \\hat{h}_i $ is then concatenated with the static data, and passed to a stacked dense layers and a dropout layer to prevent overfitting.\n",
        "\n",
        "The target patient's family component combines LSTM and GNN layers. The graph convolutional layers act as propagation modules that aggregates information from neighboring nodes. It is followed by pooling layers that aggregate node-level representations into a graph-level representation.\n",
        "\n",
        "The representations from the target patient's component and its family component (graph) are combined to predict the binary outcome $ \\hat{y}_i $.\n",
        "\n",
        "Note: there are various types of GNN layers and pooling method used in the paper. These are defined as parameters that are passed as arguments of the model initialization."
      ]
    },
    {
      "cell_type": "code",
      "execution_count": null,
      "metadata": {
        "id": "Zh4U4AMsiQ5S"
      },
      "outputs": [],
      "source": [
        "class GNNExplainabilityLSTM(torch.nn.Module):\n",
        "    \"\"\"This model directly explains the LSTM input, meaning that feature attributions are calculated for each feature at each time step\n",
        "    This can be reduced to a single attribution for each feature by aggregating (e.g. averaging) across all time steps\n",
        "    \"\"\"\n",
        "    def __init__(self, num_features_static_graph, num_features_static_node, num_features_longitudinal, main_hidden_dim, lstm_hidden_dim, gnn_layer, pooling_method, dropout_rate):\n",
        "        super().__init__()\n",
        "        num_lstm_layers = 1\n",
        "        self.pooling_method = pooling_method\n",
        "        self.lstm = nn.LSTM(num_features_longitudinal, lstm_hidden_dim, num_lstm_layers, batch_first=True, bidirectional=True, bias=False)\n",
        "        self.lstm_hidden_dim = lstm_hidden_dim\n",
        "        self.combined_linear1 = nn.Linear(num_features_static_node + lstm_hidden_dim*2, main_hidden_dim)\n",
        "        self.combined_linear2 = nn.Linear(main_hidden_dim, main_hidden_dim)\n",
        "\n",
        "        # which gnn layer to use is specified by input argument\n",
        "        if gnn_layer=='gcn':\n",
        "            print(\"Using GCN layers\")\n",
        "            self.combined_conv1 = gnn.GCNConv(num_features_static_graph + lstm_hidden_dim*2, main_hidden_dim)\n",
        "            self.combined_conv2 = gnn.GCNConv(main_hidden_dim, main_hidden_dim)\n",
        "        if gnn_layer=='graphconv':\n",
        "            print(\"Using GraphConv layers\")\n",
        "            self.combined_conv1 = gnn.GraphConv(num_features_static_graph + lstm_hidden_dim*2, main_hidden_dim)\n",
        "            self.combined_conv2 = gnn.GraphConv(main_hidden_dim, main_hidden_dim)\n",
        "        elif gnn_layer=='gat':\n",
        "            print(\"Using GAT layers\")\n",
        "            self.combined_conv1 = gnn.GATConv(num_features_static_graph + lstm_hidden_dim*2, main_hidden_dim)\n",
        "            self.combined_conv2 = gnn.GATConv(main_hidden_dim, main_hidden_dim)\n",
        "\n",
        "        self.pre_final_linear = nn.Linear(2*main_hidden_dim, main_hidden_dim)\n",
        "        self.final_linear_com = nn.Linear(main_hidden_dim, 1)\n",
        "        self.final_linear = nn.Linear(main_hidden_dim, 1)\n",
        "        self.final_linear1 = nn.Linear(main_hidden_dim, 1)\n",
        "        self.final_linear2 = nn.Linear(main_hidden_dim, 1)\n",
        "        self.final_linear_lstm = nn.Linear(lstm_hidden_dim*2, 1)\n",
        "        self.relu = nn.ReLU()\n",
        "        self.sigmoid = nn.Sigmoid()\n",
        "        self.dropout = nn.Dropout(dropout_rate)\n",
        "        self.num_features_longitudinal = num_features_longitudinal\n",
        "\n",
        "    def forward(self, x, edge_index, edge_weight=None, x_static_node=None, x_longitudinal_node=None, x_static_graph=None, batch=None, target_node=None, train=True):\n",
        "\n",
        "        # NOTE x is a 2d tensor for x_longitudinal_graph but needs to be reshaped into 3d\n",
        "        x_longitudinal_graph = torch.reshape(x, (x.shape[0],-1,self.num_features_longitudinal))\n",
        "\n",
        "        # patient part of the network\n",
        "        output, (hn, cn) = self.lstm(x_longitudinal_node)\n",
        "        hn_bi = torch.cat((hn[0],hn[1]), dim=1)\n",
        "        longitudinal_out = self.relu(hn_bi)\n",
        "        x_cat = torch.cat((x_static_node, longitudinal_out), 1)\n",
        "        linear_out = self.relu(self.combined_linear1(x_cat))\n",
        "        linear_out = self.relu(self.combined_linear2(linear_out))\n",
        "        patient_out = self.dropout(linear_out)\n",
        "\n",
        "        # family part of the network\n",
        "        output, (hn, cn) = self.lstm(x_longitudinal_graph)\n",
        "        hn_bi = torch.cat((hn[0],hn[1]), dim=1)\n",
        "        longitudinal_out = self.relu(hn_bi)\n",
        "        x_cat = torch.cat((x_static_graph, longitudinal_out), 1)\n",
        "        gnn_out = self.relu(self.combined_conv1(x_cat, edge_index, edge_weight))\n",
        "        gnn_out = self.relu(self.combined_conv2(gnn_out, edge_index, edge_weight))\n",
        "\n",
        "        if self.pooling_method=='target':\n",
        "            out = gnn_out[target_node] # instead of pooling, use the target node embedding\n",
        "        elif self.pooling_method=='sum':\n",
        "            out = gnn.global_add_pool(gnn_out, batch)\n",
        "        elif self.pooling_method=='mean':\n",
        "            out = gnn.global_mean_pool(gnn_out, batch)\n",
        "        elif self.pooling_method=='topkpool_sum':\n",
        "            out, pool_edge_index, pool_edge_attr, pool_batch, _, _ = self.TopKpool(gnn_out, edge_index, edge_weight, batch)\n",
        "            out = gnn.global_add_pool(out, pool_batch)\n",
        "        elif self.pooling_method=='topkpool_mean':\n",
        "            out, pool_edge_index, pool_edge_attr, pool_batch, _, _ = self.TopKpool(gnn_out, edge_index, edge_weight, batch)\n",
        "            out = gnn.global_mean_pool(out, pool_batch)\n",
        "        elif self.pooling_method=='sagpool_sum':\n",
        "            out, pool_edge_index, pool_edge_attr, pool_batch, _, _ = self.SAGpool(gnn_out, edge_index, edge_weight, batch)\n",
        "            out = gnn.global_add_pool(out, pool_batch)\n",
        "        elif self.pooling_method=='sagpool_mean':\n",
        "            out, pool_edge_index, pool_edge_attr, pool_batch, _, _ = self.SAGpool(gnn_out, edge_index, edge_weight, batch)\n",
        "            out = gnn.global_mean_pool(out, pool_batch)\n",
        "\n",
        "        family_out = self.dropout(out)\n",
        "\n",
        "        # combined part of network\n",
        "        out = torch.cat((patient_out, family_out), 1)\n",
        "        out = self.relu(self.pre_final_linear(out))\n",
        "        out = self.sigmoid(self.final_linear_com(out))\n",
        "\n",
        "        if train:\n",
        "            # separate parts of network\n",
        "            patient_out = self.sigmoid(self.final_linear1(patient_out))\n",
        "            family_out = self.sigmoid(self.final_linear2(family_out))\n",
        "            lstm_out = self.sigmoid(self.final_linear_lstm(longitudinal_out[target_node]))\n",
        "            return out, patient_out, family_out, lstm_out\n",
        "        else:\n",
        "            return out"
      ]
    },
    {
      "cell_type": "markdown",
      "metadata": {
        "id": "tu_l1XI-4y7x"
      },
      "source": [
        "# Training"
      ]
    },
    {
      "cell_type": "markdown",
      "metadata": {
        "id": "wH8nbukr30K8"
      },
      "source": [
        "This model needs a weighted BCELoss function that will take into account how all the different family and patient factors add up to create an overall effect."
      ]
    },
    {
      "cell_type": "code",
      "execution_count": null,
      "metadata": {
        "id": "gBdVZoTvsSFV"
      },
      "outputs": [],
      "source": [
        "def get_model_output(model, data_batch, params):\n",
        "    \"\"\"Handles the different data and model input formats for the models\n",
        "    \"\"\"\n",
        "    if params['model_type'] == 'baseline' and params['include_longitudinal']:\n",
        "        x_static, x_longitudinal, y = data_batch[0][0].to(params['device']), data_batch[1][0].to(params['device']), data_batch[2][0].unsqueeze(1).to(params['device'])\n",
        "        output = model(x_static, x_longitudinal)\n",
        "        model_output = {'output':output}\n",
        "    elif params['model_type'] == 'baseline' and not params['include_longitudinal']:\n",
        "        x_static, y = data_batch[0][0].to(params['device']), data_batch[1][0].unsqueeze(1).to(params['device'])\n",
        "        output = model(x_static)\n",
        "        model_output = {'output':output}\n",
        "    elif params['model_type'] == 'graph' and params['include_longitudinal']:\n",
        "        x_static_node, x_static_graph, x_longitudinal_node, x_longitudinal_graph, y, edge_index, edge_weight, batch, target_index = data_batch.patient_x_static.to(params['device']), data_batch.x.to(params['device']), data_batch.patient_x_longitudinal.to(params['device']), data_batch.x_longitudinal.to(params['device']), data_batch.y.unsqueeze(1).to(params['device']), data_batch.edge_index.to(params['device']), data_batch.edge_attr.to(params['device']), data_batch.batch.to(params['device']), data_batch.target_index.to(params['device'])\n",
        "        output, patient_output, family_output, lstm_output = model(x_static_node, x_static_graph, x_longitudinal_node, x_longitudinal_graph, edge_index, edge_weight, batch, target_index)\n",
        "        model_output = {'output':output, 'patient_output':patient_output, 'family_output':family_output, 'lstm_output':lstm_output}\n",
        "    elif params['model_type'] == 'graph' and not params['include_longitudinal']:\n",
        "        x_static_node, x_static_graph, y, edge_index, edge_weight, batch, target_index = data_batch.patient_x_static.to(params['device']), data_batch.x.to(params['device']), data_batch.y.unsqueeze(1).to(params['device']), data_batch.edge_index.to(params['device']), data_batch.edge_attr.to(params['device']), data_batch.batch.to(params['device']), data_batch.target_index.to(params['device'])\n",
        "        output, patient_output, family_output = model(x_static_node, x_static_graph, edge_index, edge_weight, batch, target_index)\n",
        "        model_output = {'output':output, 'patient_output':patient_output, 'family_output':family_output}\n",
        "    elif params['model_type'] == 'explainability' and params['include_longitudinal']:\n",
        "        x_static_node, x_static_graph, x_longitudinal_node, x_longitudinal_graph, y, edge_index, edge_weight, batch, target_index = data_batch.patient_x_static.to(params['device']), data_batch.x.to(params['device']), data_batch.patient_x_longitudinal.to(params['device']), data_batch.x_longitudinal.to(params['device']), data_batch.y.unsqueeze(1).to(params['device']), data_batch.edge_index.to(params['device']), data_batch.edge_attr.to(params['device']), data_batch.batch.to(params['device']), data_batch.target_index.to(params['device'])\n",
        "        x_longitudinal_graph_flat = torch.reshape(x_longitudinal_graph, (x_longitudinal_graph.shape[0],-1))\n",
        "        output, patient_output, family_output, lstm_output = model(x_longitudinal_graph_flat, edge_index, edge_weight=edge_weight, x_static_node=x_static_node, x_longitudinal_node=x_longitudinal_node, x_static_graph=x_static_graph, batch=batch, target_node=target_index)\n",
        "        model_output = {'output':output, 'patient_output':patient_output, 'family_output':family_output, 'lstm_output':lstm_output}\n",
        "\n",
        "    return model_output, y\n",
        "\n",
        "def plot_losses(train_losses, valid_losses, outprefix):\n",
        "    plt.plot(train_losses, label='Train')\n",
        "    plt.plot(valid_losses, label='Validate')\n",
        "    plt.title('Loss vs Epochs')\n",
        "    plt.xlabel('Epochs')\n",
        "    plt.ylabel('Loss')\n",
        "    plt.legend()\n",
        "    plt.savefig('{}_train_loss.png'.format(outprefix))\n",
        "    plt.clf()\n",
        "\n",
        "\n",
        "def plot_separate_losses(network_losses, target_losses, family_losses, outprefix, lstm_losses=None):\n",
        "    plt.plot(network_losses, label='Network')\n",
        "    plt.plot(target_losses, label='Target')\n",
        "    plt.plot(family_losses, label='Family')\n",
        "    if lstm_losses is not None:\n",
        "        plt.plot(lstm_losses, label='LSTM')\n",
        "    plt.title('Loss vs Epochs')\n",
        "    plt.xlabel('Epochs')\n",
        "    plt.ylabel('Loss')\n",
        "    plt.legend()\n",
        "    plt.savefig('{}_separate_loss.png'.format(outprefix))\n",
        "    plt.clf()\n",
        "\n",
        "def train_model(model, train_loader, validate_loader, params):\n",
        "\n",
        "    model.to(params['device'])\n",
        "    model_path = '{}/checkpoint_{}.pt'.format(params['outpath'], params['outname'])\n",
        "    early_stopping = EarlyStopping(patience=params['patience'], path=model_path)\n",
        "\n",
        "    if params['loss']=='bce_weighted_single' or params['loss']=='bce_weighted_sum':\n",
        "        print(\"Using BCE weighted loss\")\n",
        "        train_criterion = WeightedBCELoss(params['num_samples_train_dataset'], params['num_samples_train_minority_class'], params['num_samples_train_majority_class'], params['device'])\n",
        "        valid_criterion = WeightedBCELoss(params['num_samples_valid_dataset'], params['num_samples_valid_minority_class'], params['num_samples_valid_majority_class'], params['device'])\n",
        "\n",
        "    optimizer = torch.optim.Adam(model.parameters(), lr=params['learning_rate'])\n",
        "\n",
        "    train_losses = []\n",
        "    valid_losses = []\n",
        "    separate_loss_terms = {'NN_train':[], 'target_train':[], 'family_train':[], 'lstm_train':[], 'NN_valid':[], 'target_valid':[], 'family_valid':[], 'lstm_valid':[]}\n",
        "\n",
        "    # store for calculating classification threshold on last epoch\n",
        "    valid_output = np.array([])\n",
        "    valid_y = np.array([])\n",
        "\n",
        "    for epoch in range(params['max_epochs']):\n",
        "        # update model on train set\n",
        "        model.train()\n",
        "        epoch_train_loss = []\n",
        "        separate_loss_terms_epoch = {'NN_train':[], 'target_train':[], 'family_train':[], 'lstm_train':[], 'NN_valid':[], 'target_valid':[], 'family_valid':[], 'lstm_valid':[]}\n",
        "        for train_batch in tqdm(train_loader, total=params['num_batches_train']):\n",
        "            output, y = get_model_output(model, train_batch, params)\n",
        "\n",
        "            if params['loss']=='bce_weighted_sum':\n",
        "                # combined loss that considers the additive effect of patient and family effects\n",
        "                loss_term_NN = params['gamma'] * train_criterion(output['output'], y)\n",
        "                loss_term_target = params['alpha'] * train_criterion(output['patient_output'], y)\n",
        "                loss_term_family = params['beta'] * train_criterion(output['family_output'], y)\n",
        "                separate_loss_terms_epoch['NN_train'].append(loss_term_NN.item())\n",
        "                separate_loss_terms_epoch['target_train'].append(loss_term_target.item())\n",
        "                separate_loss_terms_epoch['family_train'].append(loss_term_family.item())\n",
        "                if params['include_longitudinal'] and (params['model_type'] == 'graph' or params['model_type'] == 'explainability'):\n",
        "                    loss_term_LSTM = params['delta'] * train_criterion(output['lstm_output'], y)\n",
        "                    separate_loss_terms_epoch['lstm_train'].append(loss_term_LSTM.item())\n",
        "                    loss = loss_term_NN + loss_term_target + loss_term_family + loss_term_LSTM\n",
        "                else:\n",
        "                    loss = loss_term_NN + loss_term_target + loss_term_family\n",
        "            else:\n",
        "                loss = train_criterion(output['output'], y)\n",
        "\n",
        "            optimizer.zero_grad()\n",
        "            loss.backward()\n",
        "            optimizer.step()\n",
        "            epoch_train_loss.append(loss.item())\n",
        "\n",
        "        # evaluate on validation set\n",
        "        model.eval()\n",
        "        epoch_valid_loss = []\n",
        "        for validate_batch in tqdm(validate_loader, total=params['num_batches_validate']):\n",
        "            output, y = get_model_output(model, validate_batch, params)\n",
        "            valid_output = np.concatenate((valid_output, output['output'].reshape(-1).detach().cpu().numpy()))\n",
        "            valid_y = np.concatenate((valid_y, y.reshape(-1).detach().cpu().numpy()))\n",
        "\n",
        "            if params['loss']=='bce_weighted_sum':\n",
        "                # combined loss that considers the additive effect of patient and family effects\n",
        "                loss_term_NN = params['gamma'] * valid_criterion(output['output'], y)\n",
        "                loss_term_target = params['alpha'] * valid_criterion(output['patient_output'], y)\n",
        "                loss_term_family = params['beta'] * valid_criterion(output['family_output'], y)\n",
        "                separate_loss_terms_epoch['NN_valid'].append(loss_term_NN.item())\n",
        "                separate_loss_terms_epoch['target_valid'].append(loss_term_target.item())\n",
        "                separate_loss_terms_epoch['family_valid'].append(loss_term_family.item())\n",
        "                if params['include_longitudinal'] and (params['model_type'] == 'graph' or params['model_type'] == 'explainability'):\n",
        "                    loss_term_LSTM = params['delta'] * valid_criterion(output['lstm_output'], y)\n",
        "                    separate_loss_terms_epoch['lstm_valid'].append(loss_term_LSTM.item())\n",
        "                    loss = loss_term_NN + loss_term_target + loss_term_family + loss_term_LSTM\n",
        "                else:\n",
        "                    loss = loss_term_NN + loss_term_target + loss_term_family\n",
        "            else:\n",
        "                loss = valid_criterion(output['output'], y)\n",
        "\n",
        "            epoch_valid_loss.append(loss.item())\n",
        "\n",
        "        early_stopping(np.mean(epoch_valid_loss), model)\n",
        "        if early_stopping.early_stop:\n",
        "            print(\"Early stopping\")\n",
        "            break\n",
        "\n",
        "        train_losses.append(np.mean(epoch_train_loss))\n",
        "        valid_losses.append(np.mean(epoch_valid_loss))\n",
        "        for term_name in separate_loss_terms:\n",
        "            separate_loss_terms[term_name].append(np.mean(separate_loss_terms_epoch[term_name]))\n",
        "        print(\"epoch {}\\ttrain loss : {}\\tvalidate loss : {}\".format(epoch, np.mean(epoch_train_loss), np.mean(epoch_valid_loss)))\n",
        "\n",
        "    # load the checkpoint with the best model\n",
        "    model.load_state_dict(torch.load(model_path))\n",
        "\n",
        "    # use last values from validation set\n",
        "    if params['threshold_opt'] == 'auc':\n",
        "        threshold = get_classification_threshold_auc(valid_output, valid_y)\n",
        "    elif params['threshold_opt'] == 'precision_recall':\n",
        "        threshold = get_classification_threshold_precision_recall(valid_output, valid_y)\n",
        "\n",
        "    plot_losses(train_losses, valid_losses, '{}/{}'.format(params['outpath'], params['outname']))\n",
        "\n",
        "    if params['loss']=='bce_weighted_sum':\n",
        "        if params['include_longitudinal'] and (params['model_type'] == 'graph' or params['model_type'] == 'explainability'):\n",
        "            plot_separate_losses(separate_loss_terms['NN_train'], separate_loss_terms['target_train'], separate_loss_terms['family_train'], '{}/{}_train'.format(params['outpath'], params['outname']), lstm_losses=separate_loss_terms['lstm_train'])\n",
        "            plot_separate_losses(separate_loss_terms['NN_valid'], separate_loss_terms['target_valid'], separate_loss_terms['family_valid'], '{}/{}_validate'.format(params['outpath'], params['outname']), lstm_losses=separate_loss_terms['lstm_valid'])\n",
        "        else:\n",
        "            plot_separate_losses(separate_loss_terms['NN_train'], separate_loss_terms['target_train'], separate_loss_terms['family_train'], '{}/{}_train'.format(params['outpath'], params['outname']))\n",
        "            plot_separate_losses(separate_loss_terms['NN_valid'], separate_loss_terms['target_valid'], separate_loss_terms['family_valid'], '{}/{}_validate'.format(params['outpath'], params['outname']))\n",
        "\n",
        "    return model, threshold\n",
        "\n",
        "\n",
        "\n"
      ]
    },
    {
      "cell_type": "markdown",
      "metadata": {
        "id": "s2aFx4-G9Gcn"
      },
      "source": [
        "## Train the model\n",
        "\n",
        "Here we will train the GNN-LSTM model for explainability analysis.Outputs include `...nodes.csv` for node and node feature explainability, `...edges.csv` for edge explainability, and ...`embeddings.csv` for the graph embeddings output."
      ]
    },
    {
      "cell_type": "markdown",
      "metadata": {
        "id": "QIDSZgxZQp-N"
      },
      "source": [
        "Before we train the model, make sure that we set these params used in training."
      ]
    },
    {
      "cell_type": "code",
      "execution_count": null,
      "metadata": {
        "id": "63l_AK0-Q1qo"
      },
      "outputs": [],
      "source": [
        "# Setup for train set\n",
        "params['num_batches_train'] = int(np.ceil(len(train_patient_list)/params['batchsize']))\n",
        "params['num_samples_train_dataset'] = len(fetch_data.train_patient_list)\n",
        "params['num_samples_train_minority_class'] = fetch_data.num_samples_train_minority_class\n",
        "params['num_samples_train_majority_class'] = fetch_data.num_samples_train_majority_class\n",
        "\n",
        "# Setup for validate set\n",
        "params['num_batches_validate'] = int(np.ceil(len(validate_patient_list)/params['batchsize']))\n",
        "params['num_samples_valid_dataset'] = len(fetch_data.validate_patient_list)\n",
        "params['num_samples_valid_minority_class'] = fetch_data.num_samples_valid_minority_class\n",
        "params['num_samples_valid_majority_class'] = fetch_data.num_samples_valid_majority_class\n",
        "\n",
        "# Setup for test\n",
        "params['num_batches_test'] = int(np.ceil(len(test_patient_list)/params['batchsize']))"
      ]
    },
    {
      "cell_type": "markdown",
      "metadata": {
        "id": "3auYb0fvRLT7"
      },
      "source": [
        "Run the code below to train the model. Here we train the model `GNNExplainabilityLSTM`."
      ]
    },
    {
      "cell_type": "markdown",
      "metadata": {
        "id": "6O05_5KuGxtb"
      },
      "source": [
        "### 1. Train a GNN-LSTM model\n",
        "Train a GNN-LSTM model for explainability analysis, by setting `model_type=explainability`"
      ]
    },
    {
      "cell_type": "code",
      "execution_count": null,
      "metadata": {
        "id": "gdIar4sD8DvI"
      },
      "outputs": [],
      "source": [
        "'''\n",
        "The script below uses --local_test to simulate random values for models\n",
        "that require longitudinal data.\n",
        "This script below is commented out, just putting it here for reference\n",
        "to run experiment G2 (the proposed GNN-LSTM model)\n",
        "'''\n",
        "\n",
        "# python3 ./src/main.py \\\n",
        "#     --featfile ${featfile} \\\n",
        "#     --model_type ${model_type} \\\n",
        "#     --experiment ${experiment} \\\n",
        "#     --batchsize ${batchsize} \\\n",
        "#     --alt_featfile ${alt_featfile} \\\n",
        "#     --outpath ${outpath} \\\n",
        "#     --statfile ${statfile} \\\n",
        "#     --maskfile ${maskfile} \\\n",
        "#     --edgefile ${edgefile} \\\n",
        "#     --gnn_layer ${gnn_layer} \\\n",
        "#     --pooling_method ${pooling_method} \\\n",
        "#     --obs_window_start ${obs_window_start} \\\n",
        "#     --obs_window_end ${obs_window_end} \\\n",
        "#     --num_workers ${num_workers} \\\n",
        "#     --max_epochs ${max_epochs} \\\n",
        "#     --patience ${patience} \\\n",
        "#     --learning_rate ${learning_rate} \\\n",
        "#     --main_hidden_dim ${main_hidden_dim} \\\n",
        "#     --lstm_hidden_dim ${lstm_hidden_dim} \\\n",
        "#     --loss ${loss} \\\n",
        "#     --gamma ${gamma} \\\n",
        "#     --alpha ${alpha} \\\n",
        "#     --beta ${beta} \\\n",
        "#     --delta ${delta} \\\n",
        "#     --dropout_rate ${dropout_rate} \\\n",
        "#     --device ${device} \\\n",
        "#     --local_test\n",
        "\n",
        "# Directory to store results\n",
        "outpath = root_url + '/results'\n",
        "\n",
        "# Additional params - this can also be set in `Data` section of this notebook\n",
        "params['model_type'] = 'explainability'\n",
        "params['include_longitudinal'] = train_dataset.include_longitudinal\n",
        "params['outpath'] = outpath\n",
        "params['outname'] = 'explainability_experiment'\n",
        "params['loss'] = 'bce_weighted_sum'\n",
        "params['threshold_opt'] = 'auc' # Choose either 'auc' or 'precision_recall'\n",
        "\n",
        "model_path = '{}/{}_model.pth'.format(params['outpath'], params['outname'])\n",
        "results_path = '{}/{}_results.csv'.format(params['outpath'], params['outname'])\n",
        "stats_path = '{}/{}_stats.csv'.format(params['outpath'], params['outname'])"
      ]
    },
    {
      "cell_type": "code",
      "execution_count": null,
      "metadata": {
        "id": "OoJtPQpSE9ZS",
        "colab": {
          "base_uri": "https://localhost:8080/"
        },
        "outputId": "1761f742-952e-42f6-da1d-f62921864e31"
      },
      "outputs": [
        {
          "output_type": "stream",
          "name": "stdout",
          "text": [
            "model_path: /content/gdrive/My Drive/CS598 DLH Project/results/explainability_experiment_model.pth\n",
            "results_path: /content/gdrive/My Drive/CS598 DLH Project/results/explainability_experiment_results.csv\n",
            "stats_path: /content/gdrive/My Drive/CS598 DLH Project/results/explainability_experiment_stats.csv\n"
          ]
        }
      ],
      "source": [
        "print(f\"model_path: {model_path}\")\n",
        "print(f\"results_path: {results_path}\")\n",
        "print(f\"stats_path: {stats_path}\")"
      ]
    },
    {
      "cell_type": "code",
      "execution_count": null,
      "metadata": {
        "colab": {
          "base_uri": "https://localhost:8080/",
          "height": 333
        },
        "id": "CWEI_ukG9EIW",
        "outputId": "4be11682-06dc-496b-a0bb-b43f24ecc68e"
      },
      "outputs": [
        {
          "output_type": "stream",
          "name": "stdout",
          "text": [
            "Using GraphConv layers\n",
            "Using BCE weighted loss\n"
          ]
        },
        {
          "output_type": "stream",
          "name": "stderr",
          "text": [
            "100%|██████████| 111/111 [02:27<00:00,  1.33s/it]\n",
            "100%|██████████| 16/16 [00:20<00:00,  1.31s/it]\n"
          ]
        },
        {
          "output_type": "stream",
          "name": "stdout",
          "text": [
            "epoch 0\ttrain loss : 5.5811259467322545\tvalidate loss : 5.48457470536232\n"
          ]
        },
        {
          "output_type": "stream",
          "name": "stderr",
          "text": [
            "100%|██████████| 111/111 [02:28<00:00,  1.34s/it]\n",
            "100%|██████████| 16/16 [00:20<00:00,  1.27s/it]\n"
          ]
        },
        {
          "output_type": "stream",
          "name": "stdout",
          "text": [
            "epoch 1\ttrain loss : 5.457739894454543\tvalidate loss : 5.350465267896652\n"
          ]
        },
        {
          "output_type": "stream",
          "name": "stderr",
          "text": [
            "100%|██████████| 111/111 [02:27<00:00,  1.33s/it]\n",
            "100%|██████████| 16/16 [00:18<00:00,  1.16s/it]\n"
          ]
        },
        {
          "output_type": "stream",
          "name": "stdout",
          "text": [
            "epoch 2\ttrain loss : 5.350224091126038\tvalidate loss : 5.20342430472374\n"
          ]
        },
        {
          "output_type": "stream",
          "name": "stderr",
          "text": [
            "100%|██████████| 111/111 [02:32<00:00,  1.38s/it]\n",
            "100%|██████████| 16/16 [00:19<00:00,  1.19s/it]\n"
          ]
        },
        {
          "output_type": "stream",
          "name": "stdout",
          "text": [
            "epoch 3\ttrain loss : 5.237407001289162\tvalidate loss : 5.057237148284912\n"
          ]
        },
        {
          "output_type": "stream",
          "name": "stderr",
          "text": [
            "100%|██████████| 111/111 [02:27<00:00,  1.33s/it]\n",
            "100%|██████████| 16/16 [00:20<00:00,  1.26s/it]\n"
          ]
        },
        {
          "output_type": "stream",
          "name": "stdout",
          "text": [
            "epoch 4\ttrain loss : 5.143494812217918\tvalidate loss : 4.938164263963699\n"
          ]
        },
        {
          "output_type": "display_data",
          "data": {
            "text/plain": [
              "<Figure size 640x480 with 0 Axes>"
            ]
          },
          "metadata": {}
        }
      ],
      "source": [
        "# model training\n",
        "model = GNNExplainabilityLSTM(\n",
        "    params['num_features_static'],\n",
        "    params['num_features_alt_static'],\n",
        "    params['num_features_longitudinal'],\n",
        "    params['main_hidden_dim'],\n",
        "    params['lstm_hidden_dim'],\n",
        "    params['gnn_layer'],\n",
        "    params['pooling_method'],\n",
        "    params['dropout_rate'])\n",
        "\n",
        "start_time_train = time.time()\n",
        "model, threshold = train_model(model, train_loader, validate_loader, params)\n",
        "end_time_train = time.time()\n",
        "\n",
        "params['threshold'] = threshold\n",
        "params['training_time'] = end_time_train - start_time_train\n"
      ]
    },
    {
      "cell_type": "code",
      "execution_count": null,
      "metadata": {
        "id": "KnYl4Ga0abiy"
      },
      "outputs": [],
      "source": [
        "torch.save(model.state_dict(), model_path)"
      ]
    },
    {
      "cell_type": "markdown",
      "metadata": {
        "id": "vPRvsdkAP_E9"
      },
      "source": [
        "### 2. Run the explainability analysis\n",
        "\n",
        "This section runs the explainability analysis on the trained model, by using the `--explainability_mode` flag. The number of samples to include in the explainability analysis is set using the `--num_positive_samples` option. Specifically, this number of case samples and the same number of control samples are randomly sampled from the test set for analysis\n",
        "\n",
        "This section requires running the 'Model Testing' section and therefore has been moved after that section."
      ]
    },
    {
      "cell_type": "markdown",
      "metadata": {
        "id": "KbFtgMW--Mz1"
      },
      "source": [
        "### Training Hyperparameters\n",
        "\n",
        "Below are the hyperparameters used in the experiments. Not all hyperparameters are required for all models."
      ]
    },
    {
      "cell_type": "code",
      "execution_count": null,
      "metadata": {
        "colab": {
          "base_uri": "https://localhost:8080/"
        },
        "id": "Dbggqk2htulR",
        "outputId": "4124f5c4-7b18-4331-e3f7-a8b289a0880e"
      },
      "outputs": [
        {
          "output_type": "stream",
          "name": "stdout",
          "text": [
            "gnn_layer: graphconv\n",
            "pooling_method: target\n",
            "obs_window_start: 1990\n",
            "obs_window_end: 2010\n",
            "num_workers: 1\n",
            "batchsize: 250\n",
            "patience: 5\n",
            "learning_rate: 0.001\n",
            "main_hidden_dim: 20\n",
            "lstm_hidden_dim: 20\n",
            "gamma: 1\n",
            "alpha: 1\n",
            "beta: 1\n",
            "delta: 1\n",
            "dropout_rate: 0.5\n"
          ]
        }
      ],
      "source": [
        "# Training Hyperparameters\n",
        "hyperparams = ['gnn_layer', 'pooling_method', 'obs_window_start', 'obs_window_end','num_workers',\n",
        "              'batchsize', 'patience', 'learning_rate', 'main_hidden_dim',\n",
        "              'lstm_hidden_dim', 'gamma', 'alpha', 'beta', 'delta', 'dropout_rate']\n",
        "for key, value in params.items():\n",
        "  if key in hyperparams: print(f\"{key}: {value}\")"
      ]
    },
    {
      "cell_type": "markdown",
      "metadata": {
        "id": "J0boI5fM-0MH"
      },
      "source": [
        "### Computational Requirements\n",
        "It is recommended to use CUDA GPU to run the model for parallel processing, but CPU can also be used, albeit much slower."
      ]
    },
    {
      "cell_type": "code",
      "execution_count": null,
      "metadata": {
        "colab": {
          "base_uri": "https://localhost:8080/"
        },
        "id": "PTLaCjZ8-lEj",
        "outputId": "df930346-a7bb-48b7-dc77-66bfa450eb06"
      },
      "outputs": [
        {
          "output_type": "stream",
          "name": "stdout",
          "text": [
            "Number of epochs:  5\n",
            "Average training time per epoch:  169.4433699131012\n"
          ]
        }
      ],
      "source": [
        "print(\"Number of epochs: \", params['max_epochs'])\n",
        "print(\"Average training time per epoch: \", params['training_time']/params['max_epochs'])"
      ]
    },
    {
      "cell_type": "markdown",
      "metadata": {
        "id": "gX6bCcZNuxmz"
      },
      "source": [
        "# Results"
      ]
    },
    {
      "cell_type": "markdown",
      "metadata": {
        "id": "87dAnUKfreFz"
      },
      "source": [
        "## Model Testing\n",
        "\n",
        "The metrics used include aur_roc (which usually is reported but can be biased if used for imbalanced classes), precision and f1 (both of which should be better for the imbalanced classes), recall (which is good for medical studies as it can reduce misses of positive instances), mcc (which is to show correlation that is good for imbalanced classes), ts (which is used for rare events, penalizing misclassification, as that is the rare event (fp)), bss (the brier skill score, which has higher scores for better calibrations of predicted probabilites), tn (true negatives), fp (false positives), fn (false negatives), and tp (true positives)."
      ]
    },
    {
      "cell_type": "code",
      "execution_count": null,
      "metadata": {
        "id": "LjW9bCkouv8O"
      },
      "outputs": [],
      "source": [
        "# metrics to evaluate my model\n",
        "def brier_skill_score(actual_y, predicted_prob_y):\n",
        "    e = sum(actual_y) / len(actual_y)\n",
        "    bs_ref = sum((e-actual_y)**2) / len(actual_y)\n",
        "    bs = sum((predicted_prob_y-actual_y)**2) / len(actual_y)\n",
        "    bss = 1 - bs / bs_ref\n",
        "    return bss\n",
        "\n",
        "#implement an eval function\n",
        "def calculate_metrics(actual_y, predicted_y, predicted_prob_y):\n",
        "    auc_roc = metrics.roc_auc_score(actual_y, predicted_prob_y)\n",
        "    precision, recall, thresholds = metrics.precision_recall_curve(actual_y, predicted_prob_y)\n",
        "    auc_prc = metrics.auc(recall, precision)\n",
        "    mcc = matthews_corrcoef(actual_y, predicted_y)\n",
        "    tn, fp, fn, tp = confusion_matrix(actual_y, predicted_y).ravel()\n",
        "    ts = tp / (tp + fn + fp)\n",
        "    recall = tp / (tp + fn)\n",
        "    f1 = (2*tp) / (2*tp + fp + fn)\n",
        "    bss = brier_skill_score(actual_y, predicted_prob_y)\n",
        "\n",
        "    metric_results = {'metric_auc_roc':auc_roc,\n",
        "               'metric_auc_prc':auc_prc,\n",
        "               'metric_f1':f1,\n",
        "               'metric_recall':recall,\n",
        "               'metric_mcc':mcc,\n",
        "               'metric_ts':ts,\n",
        "               'metric_bss':bss,\n",
        "               'true_negatives':tn,\n",
        "               'false_positives':fp,\n",
        "               'false_negatives':fn,\n",
        "               'true_positives':tp}\n",
        "\n",
        "    return metric_results\n",
        "\n",
        "\n",
        "def enable_dropout(model):\n",
        "    \"\"\"\n",
        "    Function to enable the dropout layers during test-time -\n",
        "    this is needed to get uncertainty estimates with Monte Carlo dropout techniques\n",
        "    \"\"\"\n",
        "    for m in model.modules():\n",
        "        if m.__class__.__name__.startswith('Dropout'):\n",
        "            m.train()\n",
        "\n",
        "activation = {}\n",
        "def get_activation(name):\n",
        "    \"\"\"Used to get representations learned from intermediate layers\n",
        "    \"\"\"\n",
        "    def hook(model, input, output):\n",
        "        activation[name] = output.detach()\n",
        "    return hook\n",
        "\n",
        "get_activation('combined_conv2')\n",
        "\n",
        "def test_model(model, test_loader, threshold, params, embeddings=False):\n",
        "    num_samples = 3 # number of MC samples\n",
        "    if embeddings: num_samples = 1\n",
        "    test_output = [np.array([]) for _ in range(num_samples)]\n",
        "    test_y = [np.array([]) for _ in range(num_samples)]\n",
        "\n",
        "    representations = pd.DataFrame()\n",
        "\n",
        "    model.eval()\n",
        "    enable_dropout(model)\n",
        "    for sample in range(num_samples):\n",
        "        counter = 0\n",
        "        for test_batch in tqdm(test_loader, total=params['num_batches_test']):\n",
        "            output, y = get_model_output(model, test_batch, params)\n",
        "            if embeddings:\n",
        "                # get GNN representations - only tested for longitudinal GNN model\n",
        "                tmp = pd.DataFrame(activation['combined_conv2'].detach().cpu())\n",
        "                tmp['node_index'] = test_batch.batch + params['batchsize']*counter\n",
        "                representations = pd.concat([representations, tmp])\n",
        "            test_output[sample] = np.concatenate((test_output[sample], output['output'].reshape(-1).detach().cpu().numpy()))\n",
        "            test_y[sample] = np.concatenate((test_y[sample], y.reshape(-1).detach().cpu().numpy()))\n",
        "            counter += 1\n",
        "\n",
        "    if embeddings:\n",
        "        representations.to_csv('{}/{}_embeddings.csv'.format(params['outpath'], params['outname']), index=None)\n",
        "\n",
        "    # report standard error for uncertainty\n",
        "    test_output_se = np.array(test_output).std(axis=0) / np.sqrt(num_samples)\n",
        "\n",
        "    # take average over all samples to get expected value\n",
        "    test_output = np.array(test_output).mean(axis=0)\n",
        "    test_y = np.array(test_y).mean(axis=0)\n",
        "\n",
        "    results = pd.DataFrame({'actual':test_y, 'pred_raw':test_output, 'pred_raw_se':test_output_se})\n",
        "    results['pred_binary'] = (results['pred_raw']>threshold).astype(int)\n",
        "    if embeddings:\n",
        "        metric_results = None\n",
        "    else:\n",
        "        metric_results = calculate_metrics(results['actual'], results['pred_binary'], results['pred_raw'])\n",
        "\n",
        "    return results, metric_results\n"
      ]
    },
    {
      "cell_type": "markdown",
      "metadata": {
        "id": "C8UtXvBTSicE"
      },
      "source": [
        "Run model testing below:"
      ]
    },
    {
      "cell_type": "code",
      "execution_count": null,
      "metadata": {
        "colab": {
          "base_uri": "https://localhost:8080/"
        },
        "id": "yQ1rP8Z2Slhc",
        "outputId": "fc037f21-73ba-4ae0-c519-05574eb8f149"
      },
      "outputs": [
        {
          "output_type": "stream",
          "name": "stderr",
          "text": [
            "100%|██████████| 32/32 [00:39<00:00,  1.23s/it]\n",
            "100%|██████████| 32/32 [00:41<00:00,  1.28s/it]\n",
            "100%|██████████| 32/32 [00:38<00:00,  1.19s/it]\n"
          ]
        }
      ],
      "source": [
        "results, metric_results = test_model(model, test_loader, threshold, params)\n",
        "results.to_csv(results_path, index=None)\n",
        "params.update(metric_results)\n",
        "stats = pd.DataFrame({'name':list(params.keys()), 'value':list(params.values())})\n",
        "stats.to_csv(stats_path, index=None)"
      ]
    },
    {
      "cell_type": "code",
      "execution_count": null,
      "metadata": {
        "colab": {
          "base_uri": "https://localhost:8080/"
        },
        "id": "23-NdMM5EnEy",
        "outputId": "46cd073c-bbf0-4174-c976-436377a387ca"
      },
      "outputs": [
        {
          "output_type": "stream",
          "name": "stdout",
          "text": [
            "Returning 500 positive samples and 500 negative samples\n",
            "Loading model\n",
            "Running GNNExplainer\n"
          ]
        },
        {
          "output_type": "stream",
          "name": "stderr",
          "text": [
            "\r  0%|          | 0/500 [00:00<?, ?it/s]/content/gdrive/My Drive/CS598 DLH Project/colab_env/lib/python3.10/site-packages/torch_geometric/explain/explainer.py:121: UserWarning: The 'target' should not be provided for the explanation type 'model'\n",
            "  warnings.warn(\n",
            "100%|██████████| 500/500 [12:12<00:00,  1.46s/it]\n"
          ]
        }
      ],
      "source": [
        "explainability_mode = True\n",
        "num_positive_samples = 500\n",
        "\n",
        "if explainability_mode:\n",
        "    results = pd.read_csv(results_path)\n",
        "    # select graphs to explain\n",
        "    samples = explainability.sampling(results, num_positive_samples, uncertainty_rate=0.9)\n",
        "    exp_patient_list = test_patient_list[samples]\n",
        "    # load one graph at a time\n",
        "    params['batchsize'] = 1\n",
        "    exp_dataset, exp_loader = get_data_and_loader(exp_patient_list, fetch_data, params, shuffle=False)\n",
        "\n",
        "    print(\"Loading model\")\n",
        "    model.load_state_dict(torch.load(model_path))\n",
        "    model.to(params['device'])\n",
        "    torch.backends.cudnn.enabled = False\n",
        "    explainability.gnn_explainer(model, exp_loader, exp_patient_list, params)"
      ]
    },
    {
      "cell_type": "markdown",
      "metadata": {
        "id": "AwkL46bPm8Yd"
      },
      "source": [
        "In the paper, they compared their result metrics for different endpoints (diseases or conditions). For our AUC-ROC, it is slightly higher than their highest AUC-ROC, which was for coronary heart disease, with ours being 0.769 and theirs being 0.775. Still, it is very comparable. Another close comparison would be their AUC-ROC for Type 2 diabetes, which was 0.700, while their lowest was 0.653.\n",
        "\n",
        "For our AUC-PRC, it is less comparable to their results. Ours is consistently much higher than their highest, which is 0.127, while their lowest goes to 0.016. This should indicate that our version of the model has much better performance; however this could just be because we've only run our model for 5 epochs or because we have much fewer data samples.\n",
        "\n",
        "Our MCC has a very similar case - it is much higher than the highest MCC they had in their expirements, which was 0.169 (for coronary heart disease). Their next highest was 0.141, while their lowest was 0.035 (for colorectal cancer), while their median was 0.116 (for depression). Again, this would normally indicate that our version of the model runs better, but it is likely because we only ran for 5 epochs and have much fewer data samples.\n",
        "\n",
        "![](https://drive.google.com/uc?export=view&id=1s6Q1vL1ujWDqNMobQs7HJm7As3TTMGe-)"
      ]
    },
    {
      "cell_type": "markdown",
      "source": [
        "A model trained for 25 epochs also displayed similar results, shown below."
      ],
      "metadata": {
        "id": "WXtTea-Kkwiz"
      }
    },
    {
      "cell_type": "code",
      "execution_count": null,
      "metadata": {
        "colab": {
          "base_uri": "https://localhost:8080/",
          "height": 1000
        },
        "id": "3YCrNpb9KGOE",
        "outputId": "6dad4b5c-f3fc-4737-a090-c924c4a017db"
      },
      "outputs": [
        {
          "output_type": "display_data",
          "data": {
            "text/plain": [
              "<Figure size 640x480 with 1 Axes>"
            ],
            "image/png": "[encoded data removed]"
          },
          "metadata": {}
        },
        {
          "output_type": "display_data",
          "data": {
            "text/plain": [
              "<Figure size 640x480 with 1 Axes>"
            ],
            "image/png": "[encoded data removed]"
          },
          "metadata": {}
        },
        {
          "output_type": "display_data",
          "data": {
            "text/plain": [
              "<Figure size 640x480 with 1 Axes>"
            ],
            "image/png": "[encoded data removed]"
          },
          "metadata": {}
        },
        {
          "output_type": "execute_result",
          "data": {
            "text/plain": [
              "               name      GNN LSTM values\n",
              "37   metric_auc_roc   0.7990347316592377\n",
              "38   metric_auc_prc   0.3031034996529286\n",
              "39        metric_f1   0.3487437185929648\n",
              "40    metric_recall   0.7949599083619702\n",
              "41       metric_mcc   0.2889537702521706\n",
              "42        metric_ts  0.21119902617163724\n",
              "43       metric_bss  -0.9632694122570156\n",
              "44   true_negatives                 4574\n",
              "45  false_positives                 2413\n",
              "46  false_negatives                  179\n",
              "47   true_positives                  694"
            ],
            "text/html": [
              "\n",
              "  <div id=\"df-a287c8d3-0f14-4fa4-b877-f74b81e0ac87\" class=\"colab-df-container\">\n",
              "    <div>\n",
              "<style scoped>\n",
              "    .dataframe tbody tr th:only-of-type {\n",
              "        vertical-align: middle;\n",
              "    }\n",
              "\n",
              "    .dataframe tbody tr th {\n",
              "        vertical-align: top;\n",
              "    }\n",
              "\n",
              "    .dataframe thead th {\n",
              "        text-align: right;\n",
              "    }\n",
              "</style>\n",
              "<table border=\"1\" class=\"dataframe\">\n",
              "  <thead>\n",
              "    <tr style=\"text-align: right;\">\n",
              "      <th></th>\n",
              "      <th>name</th>\n",
              "      <th>GNN LSTM values</th>\n",
              "    </tr>\n",
              "  </thead>\n",
              "  <tbody>\n",
              "    <tr>\n",
              "      <th>37</th>\n",
              "      <td>metric_auc_roc</td>\n",
              "      <td>0.7990347316592377</td>\n",
              "    </tr>\n",
              "    <tr>\n",
              "      <th>38</th>\n",
              "      <td>metric_auc_prc</td>\n",
              "      <td>0.3031034996529286</td>\n",
              "    </tr>\n",
              "    <tr>\n",
              "      <th>39</th>\n",
              "      <td>metric_f1</td>\n",
              "      <td>0.3487437185929648</td>\n",
              "    </tr>\n",
              "    <tr>\n",
              "      <th>40</th>\n",
              "      <td>metric_recall</td>\n",
              "      <td>0.7949599083619702</td>\n",
              "    </tr>\n",
              "    <tr>\n",
              "      <th>41</th>\n",
              "      <td>metric_mcc</td>\n",
              "      <td>0.2889537702521706</td>\n",
              "    </tr>\n",
              "    <tr>\n",
              "      <th>42</th>\n",
              "      <td>metric_ts</td>\n",
              "      <td>0.21119902617163724</td>\n",
              "    </tr>\n",
              "    <tr>\n",
              "      <th>43</th>\n",
              "      <td>metric_bss</td>\n",
              "      <td>-0.9632694122570156</td>\n",
              "    </tr>\n",
              "    <tr>\n",
              "      <th>44</th>\n",
              "      <td>true_negatives</td>\n",
              "      <td>4574</td>\n",
              "    </tr>\n",
              "    <tr>\n",
              "      <th>45</th>\n",
              "      <td>false_positives</td>\n",
              "      <td>2413</td>\n",
              "    </tr>\n",
              "    <tr>\n",
              "      <th>46</th>\n",
              "      <td>false_negatives</td>\n",
              "      <td>179</td>\n",
              "    </tr>\n",
              "    <tr>\n",
              "      <th>47</th>\n",
              "      <td>true_positives</td>\n",
              "      <td>694</td>\n",
              "    </tr>\n",
              "  </tbody>\n",
              "</table>\n",
              "</div>\n",
              "    <div class=\"colab-df-buttons\">\n",
              "\n",
              "  <div class=\"colab-df-container\">\n",
              "    <button class=\"colab-df-convert\" onclick=\"convertToInteractive('df-a287c8d3-0f14-4fa4-b877-f74b81e0ac87')\"\n",
              "            title=\"Convert this dataframe to an interactive table.\"\n",
              "            style=\"display:none;\">\n",
              "\n",
              "  <svg xmlns=\"http://www.w3.org/2000/svg\" height=\"24px\" viewBox=\"0 -960 960 960\">\n",
              "    <path d=\"M120-120v-720h720v720H120Zm60-500h600v-160H180v160Zm220 220h160v-160H400v160Zm0 220h160v-160H400v160ZM180-400h160v-160H180v160Zm440 0h160v-160H620v160ZM180-180h160v-160H180v160Zm440 0h160v-160H620v160Z\"/>\n",
              "  </svg>\n",
              "    </button>\n",
              "\n",
              "  <style>\n",
              "    .colab-df-container {\n",
              "      display:flex;\n",
              "      gap: 12px;\n",
              "    }\n",
              "\n",
              "    .colab-df-convert {\n",
              "      background-color: #E8F0FE;\n",
              "      border: none;\n",
              "      border-radius: 50%;\n",
              "      cursor: pointer;\n",
              "      display: none;\n",
              "      fill: #1967D2;\n",
              "      height: 32px;\n",
              "      padding: 0 0 0 0;\n",
              "      width: 32px;\n",
              "    }\n",
              "\n",
              "    .colab-df-convert:hover {\n",
              "      background-color: #E2EBFA;\n",
              "      box-shadow: 0px 1px 2px rgba(60, 64, 67, 0.3), 0px 1px 3px 1px rgba(60, 64, 67, 0.15);\n",
              "      fill: #174EA6;\n",
              "    }\n",
              "\n",
              "    .colab-df-buttons div {\n",
              "      margin-bottom: 4px;\n",
              "    }\n",
              "\n",
              "    [theme=dark] .colab-df-convert {\n",
              "      background-color: #3B4455;\n",
              "      fill: #D2E3FC;\n",
              "    }\n",
              "\n",
              "    [theme=dark] .colab-df-convert:hover {\n",
              "      background-color: #434B5C;\n",
              "      box-shadow: 0px 1px 3px 1px rgba(0, 0, 0, 0.15);\n",
              "      filter: drop-shadow(0px 1px 2px rgba(0, 0, 0, 0.3));\n",
              "      fill: #FFFFFF;\n",
              "    }\n",
              "  </style>\n",
              "\n",
              "    <script>\n",
              "      const buttonEl =\n",
              "        document.querySelector('#df-a287c8d3-0f14-4fa4-b877-f74b81e0ac87 button.colab-df-convert');\n",
              "      buttonEl.style.display =\n",
              "        google.colab.kernel.accessAllowed ? 'block' : 'none';\n",
              "\n",
              "      async function convertToInteractive(key) {\n",
              "        const element = document.querySelector('#df-a287c8d3-0f14-4fa4-b877-f74b81e0ac87');\n",
              "        const dataTable =\n",
              "          await google.colab.kernel.invokeFunction('convertToInteractive',\n",
              "                                                    [key], {});\n",
              "        if (!dataTable) return;\n",
              "\n",
              "        const docLinkHtml = 'Like what you see? Visit the ' +\n",
              "          '<a target=\"_blank\" href=https://colab.research.google.com/notebooks/data_table.ipynb>data table notebook</a>'\n",
              "          + ' to learn more about interactive tables.';\n",
              "        element.innerHTML = '';\n",
              "        dataTable['output_type'] = 'display_data';\n",
              "        await google.colab.output.renderOutput(dataTable, element);\n",
              "        const docLink = document.createElement('div');\n",
              "        docLink.innerHTML = docLinkHtml;\n",
              "        element.appendChild(docLink);\n",
              "      }\n",
              "    </script>\n",
              "  </div>\n",
              "\n",
              "\n",
              "<div id=\"df-d74fa084-c8df-4e21-8ba6-94fcdb6e5e75\">\n",
              "  <button class=\"colab-df-quickchart\" onclick=\"quickchart('df-d74fa084-c8df-4e21-8ba6-94fcdb6e5e75')\"\n",
              "            title=\"Suggest charts\"\n",
              "            style=\"display:none;\">\n",
              "\n",
              "<svg xmlns=\"http://www.w3.org/2000/svg\" height=\"24px\"viewBox=\"0 0 24 24\"\n",
              "     width=\"24px\">\n",
              "    <g>\n",
              "        <path d=\"M19 3H5c-1.1 0-2 .9-2 2v14c0 1.1.9 2 2 2h14c1.1 0 2-.9 2-2V5c0-1.1-.9-2-2-2zM9 17H7v-7h2v7zm4 0h-2V7h2v10zm4 0h-2v-4h2v4z\"/>\n",
              "    </g>\n",
              "</svg>\n",
              "  </button>\n",
              "\n",
              "<style>\n",
              "  .colab-df-quickchart {\n",
              "      --bg-color: #E8F0FE;\n",
              "      --fill-color: #1967D2;\n",
              "      --hover-bg-color: #E2EBFA;\n",
              "      --hover-fill-color: #174EA6;\n",
              "      --disabled-fill-color: #AAA;\n",
              "      --disabled-bg-color: #DDD;\n",
              "  }\n",
              "\n",
              "  [theme=dark] .colab-df-quickchart {\n",
              "      --bg-color: #3B4455;\n",
              "      --fill-color: #D2E3FC;\n",
              "      --hover-bg-color: #434B5C;\n",
              "      --hover-fill-color: #FFFFFF;\n",
              "      --disabled-bg-color: #3B4455;\n",
              "      --disabled-fill-color: #666;\n",
              "  }\n",
              "\n",
              "  .colab-df-quickchart {\n",
              "    background-color: var(--bg-color);\n",
              "    border: none;\n",
              "    border-radius: 50%;\n",
              "    cursor: pointer;\n",
              "    display: none;\n",
              "    fill: var(--fill-color);\n",
              "    height: 32px;\n",
              "    padding: 0;\n",
              "    width: 32px;\n",
              "  }\n",
              "\n",
              "  .colab-df-quickchart:hover {\n",
              "    background-color: var(--hover-bg-color);\n",
              "    box-shadow: 0 1px 2px rgba(60, 64, 67, 0.3), 0 1px 3px 1px rgba(60, 64, 67, 0.15);\n",
              "    fill: var(--button-hover-fill-color);\n",
              "  }\n",
              "\n",
              "  .colab-df-quickchart-complete:disabled,\n",
              "  .colab-df-quickchart-complete:disabled:hover {\n",
              "    background-color: var(--disabled-bg-color);\n",
              "    fill: var(--disabled-fill-color);\n",
              "    box-shadow: none;\n",
              "  }\n",
              "\n",
              "  .colab-df-spinner {\n",
              "    border: 2px solid var(--fill-color);\n",
              "    border-color: transparent;\n",
              "    border-bottom-color: var(--fill-color);\n",
              "    animation:\n",
              "      spin 1s steps(1) infinite;\n",
              "  }\n",
              "\n",
              "  @keyframes spin {\n",
              "    0% {\n",
              "      border-color: transparent;\n",
              "      border-bottom-color: var(--fill-color);\n",
              "      border-left-color: var(--fill-color);\n",
              "    }\n",
              "    20% {\n",
              "      border-color: transparent;\n",
              "      border-left-color: var(--fill-color);\n",
              "      border-top-color: var(--fill-color);\n",
              "    }\n",
              "    30% {\n",
              "      border-color: transparent;\n",
              "      border-left-color: var(--fill-color);\n",
              "      border-top-color: var(--fill-color);\n",
              "      border-right-color: var(--fill-color);\n",
              "    }\n",
              "    40% {\n",
              "      border-color: transparent;\n",
              "      border-right-color: var(--fill-color);\n",
              "      border-top-color: var(--fill-color);\n",
              "    }\n",
              "    60% {\n",
              "      border-color: transparent;\n",
              "      border-right-color: var(--fill-color);\n",
              "    }\n",
              "    80% {\n",
              "      border-color: transparent;\n",
              "      border-right-color: var(--fill-color);\n",
              "      border-bottom-color: var(--fill-color);\n",
              "    }\n",
              "    90% {\n",
              "      border-color: transparent;\n",
              "      border-bottom-color: var(--fill-color);\n",
              "    }\n",
              "  }\n",
              "</style>\n",
              "\n",
              "  <script>\n",
              "    async function quickchart(key) {\n",
              "      const quickchartButtonEl =\n",
              "        document.querySelector('#' + key + ' button');\n",
              "      quickchartButtonEl.disabled = true;  // To prevent multiple clicks.\n",
              "      quickchartButtonEl.classList.add('colab-df-spinner');\n",
              "      try {\n",
              "        const charts = await google.colab.kernel.invokeFunction(\n",
              "            'suggestCharts', [key], {});\n",
              "      } catch (error) {\n",
              "        console.error('Error during call to suggestCharts:', error);\n",
              "      }\n",
              "      quickchartButtonEl.classList.remove('colab-df-spinner');\n",
              "      quickchartButtonEl.classList.add('colab-df-quickchart-complete');\n",
              "    }\n",
              "    (() => {\n",
              "      let quickchartButtonEl =\n",
              "        document.querySelector('#df-d74fa084-c8df-4e21-8ba6-94fcdb6e5e75 button');\n",
              "      quickchartButtonEl.style.display =\n",
              "        google.colab.kernel.accessAllowed ? 'block' : 'none';\n",
              "    })();\n",
              "  </script>\n",
              "</div>\n",
              "    </div>\n",
              "  </div>\n"
            ],
            "application/vnd.google.colaboratory.intrinsic+json": {
              "type": "dataframe",
              "variable_name": "gnnlstm_stats",
              "summary": "{\n  \"name\": \"gnnlstm_stats\",\n  \"rows\": 11,\n  \"fields\": [\n    {\n      \"column\": \"name\",\n      \"properties\": {\n        \"dtype\": \"string\",\n        \"num_unique_values\": 11,\n        \"samples\": [\n          \"metric_ts\",\n          \"metric_auc_roc\",\n          \"false_negatives\"\n        ],\n        \"semantic_type\": \"\",\n        \"description\": \"\"\n      }\n    },\n    {\n      \"column\": \"GNN LSTM values\",\n      \"properties\": {\n        \"dtype\": \"string\",\n        \"num_unique_values\": 11,\n        \"samples\": [\n          \"0.21119902617163724\",\n          \"0.7990347316592377\",\n          \"179\"\n        ],\n        \"semantic_type\": \"\",\n        \"description\": \"\"\n      }\n    }\n  ]\n}"
            }
          },
          "metadata": {},
          "execution_count": 25
        }
      ],
      "source": [
        "path_25epochs = outpath + '/explainability_experiment_25epochs'\n",
        "train_loss_png = mpimg.imread(path_25epochs + '/explainability_experiment_train_loss_25epochs.png')\n",
        "train_seperate_loss_png = mpimg.imread(path_25epochs + '/explainability_experiment_train_separate_loss_25epochs.png')\n",
        "validate_seperate_loss_png = mpimg.imread(path_25epochs + '/explainability_experiment_validate_separate_loss_25epochs.png')\n",
        "\n",
        "plt.imshow(train_loss_png)\n",
        "plt.axis('off')\n",
        "plt.show()\n",
        "\n",
        "plt.imshow(train_seperate_loss_png)\n",
        "plt.axis('off')\n",
        "plt.show()\n",
        "\n",
        "plt.imshow(validate_seperate_loss_png)\n",
        "plt.axis('off')\n",
        "plt.show()\n",
        "\n",
        "gnnlstm_stats = pd.read_csv(path_25epochs + '/explainability_experiment_stats_25epochs.csv').tail(11).rename(columns={'value':'GNN LSTM values'})\n",
        "gnnlstm_stats"
      ]
    },
    {
      "cell_type": "markdown",
      "metadata": {
        "id": "8EAWAy_LwHlV"
      },
      "source": [
        "## Model comparison\n",
        "\n",
        "The paper does ablation studies that compares its proposed model (GNN-LSTM) with various combination of features:\n",
        "* [A1] 2-layer multi-layer perceptron (MLP) for age and sex features\n",
        "* [A2] A1 + family history features\n",
        "* [A3] A1 + graph connectivity (connected family network for the entire dataset)\n",
        "* [A4] A1 + longitudinal EHR data LSTM: using a single-layer, bidirectional LSTM\n",
        "* [A5] A4 + family history features\n",
        "* [AG/G2] GNN-LSTM\n",
        "\n"
      ]
    },
    {
      "cell_type": "markdown",
      "metadata": {
        "id": "5pJ37VtOt2W8"
      },
      "source": [
        "\n",
        "Below is the table comparison of metric results between experiment A2: Baseline model using age, sex, and family history; experiment A5: Baseline Longitudinal model using age, sex, family history, and longitudinal data; and experiment G2: the GNN LSTM model with longitudinal data. Each model was trained for 25 epochs."
      ]
    },
    {
      "cell_type": "code",
      "execution_count": null,
      "metadata": {
        "colab": {
          "base_uri": "https://localhost:8080/",
          "height": 394
        },
        "id": "UIth9fSX9yjb",
        "outputId": "e032dc92-95f6-4fb0-8d30-60bb9c4be6e9"
      },
      "outputs": [
        {
          "output_type": "execute_result",
          "data": {
            "text/plain": [
              "               name   Baseline A2 values   Baseline A5 values  \\\n",
              "0    metric_auc_roc   0.7697122343557034   0.7662297400293886   \n",
              "1    metric_auc_prc  0.27258575262294255   0.2710977441171657   \n",
              "2         metric_f1  0.32305909617612977   0.3373558594797533   \n",
              "3     metric_recall   0.7983963344788088    0.720504009163803   \n",
              "4        metric_mcc  0.25683287517976455   0.2624770878466773   \n",
              "5         metric_ts  0.19264787175234938  0.20290322580645162   \n",
              "6        metric_bss  -1.1849457746274976   -1.004424517266191   \n",
              "7    true_negatives                 4242                 4760   \n",
              "8   false_positives                 2745                 2227   \n",
              "9   false_negatives                  176                  244   \n",
              "10   true_positives                  697                  629   \n",
              "\n",
              "        GNN LSTM values  \n",
              "0    0.7990347316592377  \n",
              "1    0.3031034996529286  \n",
              "2    0.3487437185929648  \n",
              "3    0.7949599083619702  \n",
              "4    0.2889537702521706  \n",
              "5   0.21119902617163724  \n",
              "6   -0.9632694122570156  \n",
              "7                  4574  \n",
              "8                  2413  \n",
              "9                   179  \n",
              "10                  694  "
            ],
            "text/html": [
              "\n",
              "  <div id=\"df-d3cc3d3a-1218-41e9-8cd8-67e5881e8e37\" class=\"colab-df-container\">\n",
              "    <div>\n",
              "<style scoped>\n",
              "    .dataframe tbody tr th:only-of-type {\n",
              "        vertical-align: middle;\n",
              "    }\n",
              "\n",
              "    .dataframe tbody tr th {\n",
              "        vertical-align: top;\n",
              "    }\n",
              "\n",
              "    .dataframe thead th {\n",
              "        text-align: right;\n",
              "    }\n",
              "</style>\n",
              "<table border=\"1\" class=\"dataframe\">\n",
              "  <thead>\n",
              "    <tr style=\"text-align: right;\">\n",
              "      <th></th>\n",
              "      <th>name</th>\n",
              "      <th>Baseline A2 values</th>\n",
              "      <th>Baseline A5 values</th>\n",
              "      <th>GNN LSTM values</th>\n",
              "    </tr>\n",
              "  </thead>\n",
              "  <tbody>\n",
              "    <tr>\n",
              "      <th>0</th>\n",
              "      <td>metric_auc_roc</td>\n",
              "      <td>0.7697122343557034</td>\n",
              "      <td>0.7662297400293886</td>\n",
              "      <td>0.7990347316592377</td>\n",
              "    </tr>\n",
              "    <tr>\n",
              "      <th>1</th>\n",
              "      <td>metric_auc_prc</td>\n",
              "      <td>0.27258575262294255</td>\n",
              "      <td>0.2710977441171657</td>\n",
              "      <td>0.3031034996529286</td>\n",
              "    </tr>\n",
              "    <tr>\n",
              "      <th>2</th>\n",
              "      <td>metric_f1</td>\n",
              "      <td>0.32305909617612977</td>\n",
              "      <td>0.3373558594797533</td>\n",
              "      <td>0.3487437185929648</td>\n",
              "    </tr>\n",
              "    <tr>\n",
              "      <th>3</th>\n",
              "      <td>metric_recall</td>\n",
              "      <td>0.7983963344788088</td>\n",
              "      <td>0.720504009163803</td>\n",
              "      <td>0.7949599083619702</td>\n",
              "    </tr>\n",
              "    <tr>\n",
              "      <th>4</th>\n",
              "      <td>metric_mcc</td>\n",
              "      <td>0.25683287517976455</td>\n",
              "      <td>0.2624770878466773</td>\n",
              "      <td>0.2889537702521706</td>\n",
              "    </tr>\n",
              "    <tr>\n",
              "      <th>5</th>\n",
              "      <td>metric_ts</td>\n",
              "      <td>0.19264787175234938</td>\n",
              "      <td>0.20290322580645162</td>\n",
              "      <td>0.21119902617163724</td>\n",
              "    </tr>\n",
              "    <tr>\n",
              "      <th>6</th>\n",
              "      <td>metric_bss</td>\n",
              "      <td>-1.1849457746274976</td>\n",
              "      <td>-1.004424517266191</td>\n",
              "      <td>-0.9632694122570156</td>\n",
              "    </tr>\n",
              "    <tr>\n",
              "      <th>7</th>\n",
              "      <td>true_negatives</td>\n",
              "      <td>4242</td>\n",
              "      <td>4760</td>\n",
              "      <td>4574</td>\n",
              "    </tr>\n",
              "    <tr>\n",
              "      <th>8</th>\n",
              "      <td>false_positives</td>\n",
              "      <td>2745</td>\n",
              "      <td>2227</td>\n",
              "      <td>2413</td>\n",
              "    </tr>\n",
              "    <tr>\n",
              "      <th>9</th>\n",
              "      <td>false_negatives</td>\n",
              "      <td>176</td>\n",
              "      <td>244</td>\n",
              "      <td>179</td>\n",
              "    </tr>\n",
              "    <tr>\n",
              "      <th>10</th>\n",
              "      <td>true_positives</td>\n",
              "      <td>697</td>\n",
              "      <td>629</td>\n",
              "      <td>694</td>\n",
              "    </tr>\n",
              "  </tbody>\n",
              "</table>\n",
              "</div>\n",
              "    <div class=\"colab-df-buttons\">\n",
              "\n",
              "  <div class=\"colab-df-container\">\n",
              "    <button class=\"colab-df-convert\" onclick=\"convertToInteractive('df-d3cc3d3a-1218-41e9-8cd8-67e5881e8e37')\"\n",
              "            title=\"Convert this dataframe to an interactive table.\"\n",
              "            style=\"display:none;\">\n",
              "\n",
              "  <svg xmlns=\"http://www.w3.org/2000/svg\" height=\"24px\" viewBox=\"0 -960 960 960\">\n",
              "    <path d=\"M120-120v-720h720v720H120Zm60-500h600v-160H180v160Zm220 220h160v-160H400v160Zm0 220h160v-160H400v160ZM180-400h160v-160H180v160Zm440 0h160v-160H620v160ZM180-180h160v-160H180v160Zm440 0h160v-160H620v160Z\"/>\n",
              "  </svg>\n",
              "    </button>\n",
              "\n",
              "  <style>\n",
              "    .colab-df-container {\n",
              "      display:flex;\n",
              "      gap: 12px;\n",
              "    }\n",
              "\n",
              "    .colab-df-convert {\n",
              "      background-color: #E8F0FE;\n",
              "      border: none;\n",
              "      border-radius: 50%;\n",
              "      cursor: pointer;\n",
              "      display: none;\n",
              "      fill: #1967D2;\n",
              "      height: 32px;\n",
              "      padding: 0 0 0 0;\n",
              "      width: 32px;\n",
              "    }\n",
              "\n",
              "    .colab-df-convert:hover {\n",
              "      background-color: #E2EBFA;\n",
              "      box-shadow: 0px 1px 2px rgba(60, 64, 67, 0.3), 0px 1px 3px 1px rgba(60, 64, 67, 0.15);\n",
              "      fill: #174EA6;\n",
              "    }\n",
              "\n",
              "    .colab-df-buttons div {\n",
              "      margin-bottom: 4px;\n",
              "    }\n",
              "\n",
              "    [theme=dark] .colab-df-convert {\n",
              "      background-color: #3B4455;\n",
              "      fill: #D2E3FC;\n",
              "    }\n",
              "\n",
              "    [theme=dark] .colab-df-convert:hover {\n",
              "      background-color: #434B5C;\n",
              "      box-shadow: 0px 1px 3px 1px rgba(0, 0, 0, 0.15);\n",
              "      filter: drop-shadow(0px 1px 2px rgba(0, 0, 0, 0.3));\n",
              "      fill: #FFFFFF;\n",
              "    }\n",
              "  </style>\n",
              "\n",
              "    <script>\n",
              "      const buttonEl =\n",
              "        document.querySelector('#df-d3cc3d3a-1218-41e9-8cd8-67e5881e8e37 button.colab-df-convert');\n",
              "      buttonEl.style.display =\n",
              "        google.colab.kernel.accessAllowed ? 'block' : 'none';\n",
              "\n",
              "      async function convertToInteractive(key) {\n",
              "        const element = document.querySelector('#df-d3cc3d3a-1218-41e9-8cd8-67e5881e8e37');\n",
              "        const dataTable =\n",
              "          await google.colab.kernel.invokeFunction('convertToInteractive',\n",
              "                                                    [key], {});\n",
              "        if (!dataTable) return;\n",
              "\n",
              "        const docLinkHtml = 'Like what you see? Visit the ' +\n",
              "          '<a target=\"_blank\" href=https://colab.research.google.com/notebooks/data_table.ipynb>data table notebook</a>'\n",
              "          + ' to learn more about interactive tables.';\n",
              "        element.innerHTML = '';\n",
              "        dataTable['output_type'] = 'display_data';\n",
              "        await google.colab.output.renderOutput(dataTable, element);\n",
              "        const docLink = document.createElement('div');\n",
              "        docLink.innerHTML = docLinkHtml;\n",
              "        element.appendChild(docLink);\n",
              "      }\n",
              "    </script>\n",
              "  </div>\n",
              "\n",
              "\n",
              "<div id=\"df-ffb55ba5-f9c8-40b5-b9d7-e959dda2f796\">\n",
              "  <button class=\"colab-df-quickchart\" onclick=\"quickchart('df-ffb55ba5-f9c8-40b5-b9d7-e959dda2f796')\"\n",
              "            title=\"Suggest charts\"\n",
              "            style=\"display:none;\">\n",
              "\n",
              "<svg xmlns=\"http://www.w3.org/2000/svg\" height=\"24px\"viewBox=\"0 0 24 24\"\n",
              "     width=\"24px\">\n",
              "    <g>\n",
              "        <path d=\"M19 3H5c-1.1 0-2 .9-2 2v14c0 1.1.9 2 2 2h14c1.1 0 2-.9 2-2V5c0-1.1-.9-2-2-2zM9 17H7v-7h2v7zm4 0h-2V7h2v10zm4 0h-2v-4h2v4z\"/>\n",
              "    </g>\n",
              "</svg>\n",
              "  </button>\n",
              "\n",
              "<style>\n",
              "  .colab-df-quickchart {\n",
              "      --bg-color: #E8F0FE;\n",
              "      --fill-color: #1967D2;\n",
              "      --hover-bg-color: #E2EBFA;\n",
              "      --hover-fill-color: #174EA6;\n",
              "      --disabled-fill-color: #AAA;\n",
              "      --disabled-bg-color: #DDD;\n",
              "  }\n",
              "\n",
              "  [theme=dark] .colab-df-quickchart {\n",
              "      --bg-color: #3B4455;\n",
              "      --fill-color: #D2E3FC;\n",
              "      --hover-bg-color: #434B5C;\n",
              "      --hover-fill-color: #FFFFFF;\n",
              "      --disabled-bg-color: #3B4455;\n",
              "      --disabled-fill-color: #666;\n",
              "  }\n",
              "\n",
              "  .colab-df-quickchart {\n",
              "    background-color: var(--bg-color);\n",
              "    border: none;\n",
              "    border-radius: 50%;\n",
              "    cursor: pointer;\n",
              "    display: none;\n",
              "    fill: var(--fill-color);\n",
              "    height: 32px;\n",
              "    padding: 0;\n",
              "    width: 32px;\n",
              "  }\n",
              "\n",
              "  .colab-df-quickchart:hover {\n",
              "    background-color: var(--hover-bg-color);\n",
              "    box-shadow: 0 1px 2px rgba(60, 64, 67, 0.3), 0 1px 3px 1px rgba(60, 64, 67, 0.15);\n",
              "    fill: var(--button-hover-fill-color);\n",
              "  }\n",
              "\n",
              "  .colab-df-quickchart-complete:disabled,\n",
              "  .colab-df-quickchart-complete:disabled:hover {\n",
              "    background-color: var(--disabled-bg-color);\n",
              "    fill: var(--disabled-fill-color);\n",
              "    box-shadow: none;\n",
              "  }\n",
              "\n",
              "  .colab-df-spinner {\n",
              "    border: 2px solid var(--fill-color);\n",
              "    border-color: transparent;\n",
              "    border-bottom-color: var(--fill-color);\n",
              "    animation:\n",
              "      spin 1s steps(1) infinite;\n",
              "  }\n",
              "\n",
              "  @keyframes spin {\n",
              "    0% {\n",
              "      border-color: transparent;\n",
              "      border-bottom-color: var(--fill-color);\n",
              "      border-left-color: var(--fill-color);\n",
              "    }\n",
              "    20% {\n",
              "      border-color: transparent;\n",
              "      border-left-color: var(--fill-color);\n",
              "      border-top-color: var(--fill-color);\n",
              "    }\n",
              "    30% {\n",
              "      border-color: transparent;\n",
              "      border-left-color: var(--fill-color);\n",
              "      border-top-color: var(--fill-color);\n",
              "      border-right-color: var(--fill-color);\n",
              "    }\n",
              "    40% {\n",
              "      border-color: transparent;\n",
              "      border-right-color: var(--fill-color);\n",
              "      border-top-color: var(--fill-color);\n",
              "    }\n",
              "    60% {\n",
              "      border-color: transparent;\n",
              "      border-right-color: var(--fill-color);\n",
              "    }\n",
              "    80% {\n",
              "      border-color: transparent;\n",
              "      border-right-color: var(--fill-color);\n",
              "      border-bottom-color: var(--fill-color);\n",
              "    }\n",
              "    90% {\n",
              "      border-color: transparent;\n",
              "      border-bottom-color: var(--fill-color);\n",
              "    }\n",
              "  }\n",
              "</style>\n",
              "\n",
              "  <script>\n",
              "    async function quickchart(key) {\n",
              "      const quickchartButtonEl =\n",
              "        document.querySelector('#' + key + ' button');\n",
              "      quickchartButtonEl.disabled = true;  // To prevent multiple clicks.\n",
              "      quickchartButtonEl.classList.add('colab-df-spinner');\n",
              "      try {\n",
              "        const charts = await google.colab.kernel.invokeFunction(\n",
              "            'suggestCharts', [key], {});\n",
              "      } catch (error) {\n",
              "        console.error('Error during call to suggestCharts:', error);\n",
              "      }\n",
              "      quickchartButtonEl.classList.remove('colab-df-spinner');\n",
              "      quickchartButtonEl.classList.add('colab-df-quickchart-complete');\n",
              "    }\n",
              "    (() => {\n",
              "      let quickchartButtonEl =\n",
              "        document.querySelector('#df-ffb55ba5-f9c8-40b5-b9d7-e959dda2f796 button');\n",
              "      quickchartButtonEl.style.display =\n",
              "        google.colab.kernel.accessAllowed ? 'block' : 'none';\n",
              "    })();\n",
              "  </script>\n",
              "</div>\n",
              "    </div>\n",
              "  </div>\n"
            ],
            "application/vnd.google.colaboratory.intrinsic+json": {
              "type": "dataframe",
              "variable_name": "stats_pd",
              "summary": "{\n  \"name\": \"stats_pd\",\n  \"rows\": 11,\n  \"fields\": [\n    {\n      \"column\": \"name\",\n      \"properties\": {\n        \"dtype\": \"string\",\n        \"num_unique_values\": 11,\n        \"samples\": [\n          \"metric_ts\",\n          \"metric_auc_roc\",\n          \"false_negatives\"\n        ],\n        \"semantic_type\": \"\",\n        \"description\": \"\"\n      }\n    },\n    {\n      \"column\": \"Baseline A2 values\",\n      \"properties\": {\n        \"dtype\": \"string\",\n        \"num_unique_values\": 11,\n        \"samples\": [\n          \"0.19264787175234938\",\n          \"0.7697122343557034\",\n          \"176\"\n        ],\n        \"semantic_type\": \"\",\n        \"description\": \"\"\n      }\n    },\n    {\n      \"column\": \"Baseline A5 values\",\n      \"properties\": {\n        \"dtype\": \"string\",\n        \"num_unique_values\": 11,\n        \"samples\": [\n          \"0.20290322580645162\",\n          \"0.7662297400293886\",\n          \"244\"\n        ],\n        \"semantic_type\": \"\",\n        \"description\": \"\"\n      }\n    },\n    {\n      \"column\": \"GNN LSTM values\",\n      \"properties\": {\n        \"dtype\": \"string\",\n        \"num_unique_values\": 11,\n        \"samples\": [\n          \"0.21119902617163724\",\n          \"0.7990347316592377\",\n          \"179\"\n        ],\n        \"semantic_type\": \"\",\n        \"description\": \"\"\n      }\n    }\n  ]\n}"
            }
          },
          "metadata": {},
          "execution_count": 26
        }
      ],
      "source": [
        "baselineA2_stats = pd.read_csv(outpath + '/baselineA2_experiment_stats.csv').tail(11).rename(columns={\"value\":\"Baseline A2 values\"})\n",
        "baselineA5_stats = pd.read_csv(outpath + '/baselineA5_experiment_stats.csv').tail(11).rename(columns={\"value\":\"Baseline A5 values\"})\n",
        "gnnlstm_stats = pd.read_csv(path_25epochs+ '/explainability_experiment_stats_25epochs.csv').tail(11).rename(columns={'value':'GNN LSTM values'})\n",
        "stats_pd = baselineA2_stats.merge(baselineA5_stats)\n",
        "stats_pd = stats_pd.merge(gnnlstm_stats)\n",
        "stats_pd"
      ]
    },
    {
      "cell_type": "markdown",
      "source": [
        "The values for the metrics AUC ROC, AUC PRC, and MCC are consistently better for the GNN-LSTM model than the other two models. This shows that GNN-LSTM is able to predict the onset of hereditary diseases better than these baseline models, with or without longitudinal data."
      ],
      "metadata": {
        "id": "UqkZwIrewZ_f"
      }
    },
    {
      "cell_type": "markdown",
      "metadata": {
        "id": "tSQdcHx6hFhk"
      },
      "source": [
        "### Baseline\n",
        "The model below is a baseline to be compared to the proposed GNN-LSTM [AG/G2]. It consists of 2-layer multi-layer perceptron that accepts various features. This model is used for experiment A1, A2, and A3."
      ]
    },
    {
      "cell_type": "code",
      "execution_count": null,
      "metadata": {
        "id": "-2FfhlSgbvY4"
      },
      "outputs": [],
      "source": [
        "class Baseline(torch.nn.Module):\n",
        "    def __init__(self, num_features_static, hidden_dim, dropout_rate):\n",
        "        super().__init__()\n",
        "        self.static_linear1 = nn.Linear(num_features_static, hidden_dim)\n",
        "        self.static_linear2 = nn.Linear(hidden_dim, hidden_dim)\n",
        "        self.final_linear = nn.Linear(hidden_dim, 1)\n",
        "        self.relu = nn.ReLU()\n",
        "        self.sigmoid = nn.Sigmoid()\n",
        "        self.dropout = nn.Dropout(dropout_rate)\n",
        "\n",
        "    def forward(self, x_static):\n",
        "        linear_out = self.relu(self.static_linear1(x_static))\n",
        "        linear_out = self.relu(self.static_linear2(linear_out))\n",
        "        linear_out = self.dropout(linear_out)\n",
        "        out = self.sigmoid(self.final_linear(linear_out))\n",
        "        return out"
      ]
    },
    {
      "cell_type": "markdown",
      "metadata": {
        "id": "5rIkus93Bd9j"
      },
      "source": [
        "### Baseline Longitudinal\n",
        "\n",
        "This baseline model is used to run experiment that includes longitudinal data, such as experiment A4 and A5."
      ]
    },
    {
      "cell_type": "code",
      "execution_count": null,
      "metadata": {
        "id": "XY7cg7j_BhEu"
      },
      "outputs": [],
      "source": [
        "class BaselineLongitudinal(torch.nn.Module):\n",
        "    def __init__(self, num_features_static, num_features_longitudinal, main_hidden_dim, lstm_hidden_dim, dropout_rate, num_lstm_layers=1):\n",
        "        super().__init__()\n",
        "        self.lstm = nn.LSTM(num_features_longitudinal, lstm_hidden_dim, num_lstm_layers, batch_first=True, bidirectional=True, bias=False)\n",
        "        self.lstm_hidden_dim = lstm_hidden_dim\n",
        "        self.combined_linear1 = nn.Linear(num_features_static + lstm_hidden_dim*2, main_hidden_dim)\n",
        "        self.combined_linear2 = nn.Linear(main_hidden_dim, main_hidden_dim)\n",
        "        self.final_linear = nn.Linear(main_hidden_dim, 1)\n",
        "        self.relu = nn.ReLU()\n",
        "        self.sigmoid = nn.Sigmoid()\n",
        "        self.dropout = nn.Dropout(dropout_rate)\n",
        "\n",
        "    def forward(self, x_static, x_longitudinal):\n",
        "        output, (hn, cn) = self.lstm(x_longitudinal)\n",
        "        hn_bi = torch.cat((hn[0],hn[1]), dim=1)\n",
        "        longitudinal_out = self.relu(hn_bi)\n",
        "        x_cat = torch.cat((x_static, longitudinal_out), 1)\n",
        "        linear_out = self.relu(self.combined_linear1(x_cat))\n",
        "        linear_out = self.relu(self.combined_linear2(linear_out))\n",
        "        linear_out = self.dropout(linear_out)\n",
        "        out = self.sigmoid(self.final_linear(linear_out))\n",
        "        return out"
      ]
    },
    {
      "cell_type": "markdown",
      "metadata": {
        "id": "qH75TNU71eRH"
      },
      "source": [
        "# Discussion\n",
        "\n",
        "The results of our experiment show that the GNN-LSTM model is able to predict hereditary diseases in patients well. Our GNN-LSTM model produces results similar to the original paper's results. One difficulty in reproducing the experiment includes obtaining data. Although we used the provided sample synthetic dataset, we could produce more accurate results if we could obtain access to real EHR data. Despite these difficulties, the authors of the paper provided a good codebase that is well-documented and easy to follow, making it possible for us to reproduce the experiment.\n",
        "\n",
        "Our recommendation to the original authors of this paper is to provide code for the graph representations of the GNN-LSTM explanations for parent node embeddings using clustering. This will help others to reproduce and explain the results with visualization rather than tabular data in csv format."
      ]
    },
    {
      "cell_type": "markdown",
      "metadata": {
        "id": "SHMI2chl9omn"
      },
      "source": [
        "# References\n",
        "\n",
        "1. Wharrie, S., Yang, Z., Ganna, A., & Kaski, S. Characterizing personalized effects of family information on disease risk using graph representation learning. Proceedings of Machine Learning Research. 2023, 219, 824-845. doi: https://arxiv.org/abs/2304.05010\n",
        "2. https://github.com/dsgelab/family-EHR-graphs\n",
        "3. Hamid Behravan, Jaana M Hartikainen, Maria Tengstr ̈om, Veli-Matti Kosma, and Arto\n",
        "Mannermaa. Predicting breast cancer risk using interacting genetic and demographic factors\n",
        "and machine learning. Scientific reports, 10(1):11044, 2020.\n",
        "4. Sivan Kinreich, Jacquelyn L Meyers, Adi Maron-Katz, Chella Kamarajan, Ashwini K Pandey,\n",
        "David B Chorlian, Jian Zhang, Gayathri Pandey, Stacey Subbie-Saenz de Viteri, Dan Pitti, et al. Predicting risk for alcohol use disorder using longitudinal data with multimodal biomarkers and family history: a machine learning study. Molecular psychiatry, 26(4):1133–1141, 2021.\n",
        "\n"
      ]
    }
  ],
  "metadata": {
    "colab": {
      "provenance": [],
      "toc_visible": true,
      "include_colab_link": true
    },
    "kernelspec": {
      "display_name": "Python 3",
      "name": "python3"
    },
    "language_info": {
      "name": "python"
    }
  },
  "nbformat": 4,
  "nbformat_minor": 0
}